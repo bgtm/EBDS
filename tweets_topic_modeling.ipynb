{
 "cells": [
  {
   "cell_type": "markdown",
   "id": "1969acf0",
   "metadata": {},
   "source": [
    "# Introduction\n",
    "> This notebook is a topic modeling analyse about tweets that mention the six biggest airline companies in the US. The goal is to extract the most commun topics and to interpret them with the sentiment that they are link to."
   ]
  },
  {
   "cell_type": "markdown",
   "id": "38849a6d",
   "metadata": {},
   "source": [
    "# Librairie"
   ]
  },
  {
   "cell_type": "code",
   "execution_count": 181,
   "id": "ad85397c",
   "metadata": {},
   "outputs": [
    {
     "name": "stderr",
     "output_type": "stream",
     "text": [
      "[nltk_data] Downloading package stopwords to\n",
      "[nltk_data]     C:\\Users\\Bruguet\\AppData\\Roaming\\nltk_data...\n",
      "[nltk_data]   Package stopwords is already up-to-date!\n",
      "[nltk_data] Downloading package wordnet to\n",
      "[nltk_data]     C:\\Users\\Bruguet\\AppData\\Roaming\\nltk_data...\n",
      "[nltk_data]   Package wordnet is already up-to-date!\n",
      "[nltk_data] Downloading package punkt to\n",
      "[nltk_data]     C:\\Users\\Bruguet\\AppData\\Roaming\\nltk_data...\n",
      "[nltk_data]   Package punkt is already up-to-date!\n",
      "[nltk_data] Downloading package words to\n",
      "[nltk_data]     C:\\Users\\Bruguet\\AppData\\Roaming\\nltk_data...\n",
      "[nltk_data]   Package words is already up-to-date!\n",
      "[nltk_data] Downloading package averaged_perceptron_tagger to\n",
      "[nltk_data]     C:\\Users\\Bruguet\\AppData\\Roaming\\nltk_data...\n",
      "[nltk_data]   Package averaged_perceptron_tagger is already up-to-\n",
      "[nltk_data]       date!\n"
     ]
    }
   ],
   "source": [
    "import pandas as pd\n",
    "import seaborn as sns\n",
    "import matplotlib.pyplot as plt\n",
    "import os\n",
    "from tqdm.notebook import tqdm #progress bar\n",
    "from collections import Counter\n",
    "\n",
    "import pandas as pd\n",
    "import seaborn as sns\n",
    "import matplotlib.pyplot as plt\n",
    "import os\n",
    "from tqdm.notebook import tqdm #progress bar\n",
    "\n",
    "import string\n",
    "import nltk\n",
    "nltk.download('stopwords')\n",
    "nltk.download('wordnet')\n",
    "nltk.download('punkt')\n",
    "nltk.download('words')\n",
    "nltk.download('averaged_perceptron_tagger')\n",
    "from nltk.corpus import wordnet, stopwords\n",
    "import re, numpy as np, pandas as pd\n",
    "\n",
    "# Sklearn\n",
    "from sklearn.decomposition import LatentDirichletAllocation, TruncatedSVD\n",
    "from sklearn.model_selection import GridSearchCV\n",
    "\n",
    "#!pip install tensorflow\n",
    "#!pip install tensorflow_hub\n",
    "#!pip install tensorflow_text\n",
    "import pickle #to save serialized data\n",
    "import tensorflow as tf \n",
    "import tensorflow_hub as hub\n",
    "import tensorflow_text\n",
    "import numpy as np"
   ]
  },
  {
   "cell_type": "code",
   "execution_count": 3,
   "id": "c6fc08cb",
   "metadata": {},
   "outputs": [],
   "source": [
    "tqdm.pandas() "
   ]
  },
  {
   "cell_type": "markdown",
   "id": "52248a24",
   "metadata": {},
   "source": [
    "# Some functions to pre process data"
   ]
  },
  {
   "cell_type": "code",
   "execution_count": 5,
   "id": "aff4d451",
   "metadata": {},
   "outputs": [],
   "source": [
    "def ReviewProcessing(df):\n",
    "    # remove non alphanumeric \n",
    "    df['text_cleaned'] = df.text.str.replace('[^a-zA-Z0-9 ]', '')\n",
    "    # lowercase\n",
    "    df.text_cleaned = df.text_cleaned.str.lower()\n",
    "    # split into list\n",
    "    df.text_cleaned = df.text_cleaned.str.split(' ')\n",
    "    # remove stopwords\n",
    "    df.text_cleaned = df.text_cleaned.apply(lambda x: [item for item in x if item not in stopwords_list])\n",
    "    return(df)\n",
    "\n",
    "def LemProcessing(df):\n",
    "    df['tokenize'] = df.text_cleaned_lemmatized.str.replace('[^a-zA-Z0-9 ]', '')\n",
    "    # lowercase\n",
    "    df.tokenize= df.tokenize.str.lower()\n",
    "    # split into list\n",
    "    df.tokenize = df.tokenize.str.split(' ')\n",
    "    # remove stopwords\n",
    "    df.tokenize = df.tokenize.apply(lambda x: [item for item in x if item not in stopwords_list])\n",
    "    return(df)"
   ]
  },
  {
   "cell_type": "code",
   "execution_count": 6,
   "id": "ee9ab9d2",
   "metadata": {},
   "outputs": [],
   "source": [
    "def get_wordnet_pos(word):\n",
    "    tag = nltk.pos_tag([word])[0][1][0].upper()\n",
    "    tag_dict = {\"J\": wordnet.ADJ,\n",
    "                \"N\": wordnet.NOUN,\n",
    "                \"V\": wordnet.VERB,\n",
    "                \"R\": wordnet.ADV}\n",
    "\n",
    "    return tag_dict.get(tag, wordnet.NOUN)\n",
    "\n",
    "lemmatizer = nltk.stem.WordNetLemmatizer()\n",
    "def get_lemmatize(sent):\n",
    "    return \" \".join([lemmatizer.lemmatize(w, get_wordnet_pos(w)) for w in nltk.word_tokenize(sent)])"
   ]
  },
  {
   "cell_type": "code",
   "execution_count": 15,
   "id": "3b0e2b70",
   "metadata": {},
   "outputs": [],
   "source": [
    "def remove_arobase(phrase, character_list):\n",
    "    words = phrase.split()\n",
    "    for word in words:\n",
    "        if any(character in word for character in character_list):\n",
    "            words.remove(word)\n",
    "    new_phrase = ' '.join(words)\n",
    "    return new_phrase"
   ]
  },
  {
   "cell_type": "markdown",
   "id": "d35b0dd9",
   "metadata": {},
   "source": [
    "# Load data"
   ]
  },
  {
   "cell_type": "code",
   "execution_count": 8,
   "id": "a84e683f",
   "metadata": {},
   "outputs": [
    {
     "data": {
      "text/html": [
       "<div>\n",
       "<style scoped>\n",
       "    .dataframe tbody tr th:only-of-type {\n",
       "        vertical-align: middle;\n",
       "    }\n",
       "\n",
       "    .dataframe tbody tr th {\n",
       "        vertical-align: top;\n",
       "    }\n",
       "\n",
       "    .dataframe thead th {\n",
       "        text-align: right;\n",
       "    }\n",
       "</style>\n",
       "<table border=\"1\" class=\"dataframe\">\n",
       "  <thead>\n",
       "    <tr style=\"text-align: right;\">\n",
       "      <th></th>\n",
       "      <th>tweet_id</th>\n",
       "      <th>airline_sentiment</th>\n",
       "      <th>airline_sentiment_confidence</th>\n",
       "      <th>negativereason</th>\n",
       "      <th>negativereason_confidence</th>\n",
       "      <th>airline</th>\n",
       "      <th>airline_sentiment_gold</th>\n",
       "      <th>name</th>\n",
       "      <th>negativereason_gold</th>\n",
       "      <th>retweet_count</th>\n",
       "      <th>text</th>\n",
       "      <th>tweet_coord</th>\n",
       "      <th>tweet_created</th>\n",
       "      <th>tweet_location</th>\n",
       "      <th>user_timezone</th>\n",
       "    </tr>\n",
       "  </thead>\n",
       "  <tbody>\n",
       "    <tr>\n",
       "      <th>0</th>\n",
       "      <td>570306133677760513</td>\n",
       "      <td>neutral</td>\n",
       "      <td>1.0000</td>\n",
       "      <td>NaN</td>\n",
       "      <td>NaN</td>\n",
       "      <td>Virgin America</td>\n",
       "      <td>NaN</td>\n",
       "      <td>cairdin</td>\n",
       "      <td>NaN</td>\n",
       "      <td>0</td>\n",
       "      <td>@VirginAmerica What @dhepburn said.</td>\n",
       "      <td>NaN</td>\n",
       "      <td>2015-02-24 11:35:52 -0800</td>\n",
       "      <td>NaN</td>\n",
       "      <td>Eastern Time (US &amp; Canada)</td>\n",
       "    </tr>\n",
       "    <tr>\n",
       "      <th>1</th>\n",
       "      <td>570301130888122368</td>\n",
       "      <td>positive</td>\n",
       "      <td>0.3486</td>\n",
       "      <td>NaN</td>\n",
       "      <td>0.0000</td>\n",
       "      <td>Virgin America</td>\n",
       "      <td>NaN</td>\n",
       "      <td>jnardino</td>\n",
       "      <td>NaN</td>\n",
       "      <td>0</td>\n",
       "      <td>@VirginAmerica plus you've added commercials t...</td>\n",
       "      <td>NaN</td>\n",
       "      <td>2015-02-24 11:15:59 -0800</td>\n",
       "      <td>NaN</td>\n",
       "      <td>Pacific Time (US &amp; Canada)</td>\n",
       "    </tr>\n",
       "    <tr>\n",
       "      <th>2</th>\n",
       "      <td>570301083672813571</td>\n",
       "      <td>neutral</td>\n",
       "      <td>0.6837</td>\n",
       "      <td>NaN</td>\n",
       "      <td>NaN</td>\n",
       "      <td>Virgin America</td>\n",
       "      <td>NaN</td>\n",
       "      <td>yvonnalynn</td>\n",
       "      <td>NaN</td>\n",
       "      <td>0</td>\n",
       "      <td>@VirginAmerica I didn't today... Must mean I n...</td>\n",
       "      <td>NaN</td>\n",
       "      <td>2015-02-24 11:15:48 -0800</td>\n",
       "      <td>Lets Play</td>\n",
       "      <td>Central Time (US &amp; Canada)</td>\n",
       "    </tr>\n",
       "    <tr>\n",
       "      <th>3</th>\n",
       "      <td>570301031407624196</td>\n",
       "      <td>negative</td>\n",
       "      <td>1.0000</td>\n",
       "      <td>Bad Flight</td>\n",
       "      <td>0.7033</td>\n",
       "      <td>Virgin America</td>\n",
       "      <td>NaN</td>\n",
       "      <td>jnardino</td>\n",
       "      <td>NaN</td>\n",
       "      <td>0</td>\n",
       "      <td>@VirginAmerica it's really aggressive to blast...</td>\n",
       "      <td>NaN</td>\n",
       "      <td>2015-02-24 11:15:36 -0800</td>\n",
       "      <td>NaN</td>\n",
       "      <td>Pacific Time (US &amp; Canada)</td>\n",
       "    </tr>\n",
       "    <tr>\n",
       "      <th>4</th>\n",
       "      <td>570300817074462722</td>\n",
       "      <td>negative</td>\n",
       "      <td>1.0000</td>\n",
       "      <td>Can't Tell</td>\n",
       "      <td>1.0000</td>\n",
       "      <td>Virgin America</td>\n",
       "      <td>NaN</td>\n",
       "      <td>jnardino</td>\n",
       "      <td>NaN</td>\n",
       "      <td>0</td>\n",
       "      <td>@VirginAmerica and it's a really big bad thing...</td>\n",
       "      <td>NaN</td>\n",
       "      <td>2015-02-24 11:14:45 -0800</td>\n",
       "      <td>NaN</td>\n",
       "      <td>Pacific Time (US &amp; Canada)</td>\n",
       "    </tr>\n",
       "  </tbody>\n",
       "</table>\n",
       "</div>"
      ],
      "text/plain": [
       "             tweet_id airline_sentiment  airline_sentiment_confidence  \\\n",
       "0  570306133677760513           neutral                        1.0000   \n",
       "1  570301130888122368          positive                        0.3486   \n",
       "2  570301083672813571           neutral                        0.6837   \n",
       "3  570301031407624196          negative                        1.0000   \n",
       "4  570300817074462722          negative                        1.0000   \n",
       "\n",
       "  negativereason  negativereason_confidence         airline  \\\n",
       "0            NaN                        NaN  Virgin America   \n",
       "1            NaN                     0.0000  Virgin America   \n",
       "2            NaN                        NaN  Virgin America   \n",
       "3     Bad Flight                     0.7033  Virgin America   \n",
       "4     Can't Tell                     1.0000  Virgin America   \n",
       "\n",
       "  airline_sentiment_gold        name negativereason_gold  retweet_count  \\\n",
       "0                    NaN     cairdin                 NaN              0   \n",
       "1                    NaN    jnardino                 NaN              0   \n",
       "2                    NaN  yvonnalynn                 NaN              0   \n",
       "3                    NaN    jnardino                 NaN              0   \n",
       "4                    NaN    jnardino                 NaN              0   \n",
       "\n",
       "                                                text tweet_coord  \\\n",
       "0                @VirginAmerica What @dhepburn said.         NaN   \n",
       "1  @VirginAmerica plus you've added commercials t...         NaN   \n",
       "2  @VirginAmerica I didn't today... Must mean I n...         NaN   \n",
       "3  @VirginAmerica it's really aggressive to blast...         NaN   \n",
       "4  @VirginAmerica and it's a really big bad thing...         NaN   \n",
       "\n",
       "               tweet_created tweet_location               user_timezone  \n",
       "0  2015-02-24 11:35:52 -0800            NaN  Eastern Time (US & Canada)  \n",
       "1  2015-02-24 11:15:59 -0800            NaN  Pacific Time (US & Canada)  \n",
       "2  2015-02-24 11:15:48 -0800      Lets Play  Central Time (US & Canada)  \n",
       "3  2015-02-24 11:15:36 -0800            NaN  Pacific Time (US & Canada)  \n",
       "4  2015-02-24 11:14:45 -0800            NaN  Pacific Time (US & Canada)  "
      ]
     },
     "execution_count": 8,
     "metadata": {},
     "output_type": "execute_result"
    }
   ],
   "source": [
    "tweet_path = os.path.join(\"..\", \"data\", \"Tweets.csv\")\n",
    "tweet = pd.read_csv(tweet_path)\n",
    "#tweet = tweet.drop(['Unnamed: 0'],axis=1)\n",
    "tweet.head()"
   ]
  },
  {
   "cell_type": "markdown",
   "id": "e676ae1b",
   "metadata": {},
   "source": [
    "## Count the length of each tweet"
   ]
  },
  {
   "cell_type": "code",
   "execution_count": 141,
   "id": "e3c650b4",
   "metadata": {
    "scrolled": false
   },
   "outputs": [
    {
     "name": "stderr",
     "output_type": "stream",
     "text": [
      "<ipython-input-141-10d5c8fbc071>:2: SettingWithCopyWarning: \n",
      "A value is trying to be set on a copy of a slice from a DataFrame.\n",
      "Try using .loc[row_indexer,col_indexer] = value instead\n",
      "\n",
      "See the caveats in the documentation: https://pandas.pydata.org/pandas-docs/stable/user_guide/indexing.html#returning-a-view-versus-a-copy\n",
      "  df['text_length'] = df['text'].str.len()\n"
     ]
    },
    {
     "data": {
      "text/html": [
       "<div>\n",
       "<style scoped>\n",
       "    .dataframe tbody tr th:only-of-type {\n",
       "        vertical-align: middle;\n",
       "    }\n",
       "\n",
       "    .dataframe tbody tr th {\n",
       "        vertical-align: top;\n",
       "    }\n",
       "\n",
       "    .dataframe thead th {\n",
       "        text-align: right;\n",
       "    }\n",
       "</style>\n",
       "<table border=\"1\" class=\"dataframe\">\n",
       "  <thead>\n",
       "    <tr style=\"text-align: right;\">\n",
       "      <th></th>\n",
       "      <th>airline_sentiment</th>\n",
       "      <th>airline</th>\n",
       "      <th>text</th>\n",
       "      <th>text_length</th>\n",
       "    </tr>\n",
       "  </thead>\n",
       "  <tbody>\n",
       "    <tr>\n",
       "      <th>0</th>\n",
       "      <td>neutral</td>\n",
       "      <td>Virgin America</td>\n",
       "      <td>@VirginAmerica What @dhepburn said.</td>\n",
       "      <td>35</td>\n",
       "    </tr>\n",
       "    <tr>\n",
       "      <th>1</th>\n",
       "      <td>positive</td>\n",
       "      <td>Virgin America</td>\n",
       "      <td>@VirginAmerica plus you've added commercials t...</td>\n",
       "      <td>72</td>\n",
       "    </tr>\n",
       "    <tr>\n",
       "      <th>2</th>\n",
       "      <td>neutral</td>\n",
       "      <td>Virgin America</td>\n",
       "      <td>@VirginAmerica I didn't today... Must mean I n...</td>\n",
       "      <td>71</td>\n",
       "    </tr>\n",
       "    <tr>\n",
       "      <th>3</th>\n",
       "      <td>negative</td>\n",
       "      <td>Virgin America</td>\n",
       "      <td>@VirginAmerica it's really aggressive to blast...</td>\n",
       "      <td>126</td>\n",
       "    </tr>\n",
       "    <tr>\n",
       "      <th>4</th>\n",
       "      <td>negative</td>\n",
       "      <td>Virgin America</td>\n",
       "      <td>@VirginAmerica and it's a really big bad thing...</td>\n",
       "      <td>55</td>\n",
       "    </tr>\n",
       "  </tbody>\n",
       "</table>\n",
       "</div>"
      ],
      "text/plain": [
       "  airline_sentiment         airline  \\\n",
       "0           neutral  Virgin America   \n",
       "1          positive  Virgin America   \n",
       "2           neutral  Virgin America   \n",
       "3          negative  Virgin America   \n",
       "4          negative  Virgin America   \n",
       "\n",
       "                                                text  text_length  \n",
       "0                @VirginAmerica What @dhepburn said.           35  \n",
       "1  @VirginAmerica plus you've added commercials t...           72  \n",
       "2  @VirginAmerica I didn't today... Must mean I n...           71  \n",
       "3  @VirginAmerica it's really aggressive to blast...          126  \n",
       "4  @VirginAmerica and it's a really big bad thing...           55  "
      ]
     },
     "execution_count": 141,
     "metadata": {},
     "output_type": "execute_result"
    }
   ],
   "source": [
    "df = tweet[['airline_sentiment','airline','text']]\n",
    "df['text_length'] = df['text'].str.len()\n",
    "df = df.dropna()\n",
    "df.head()"
   ]
  },
  {
   "cell_type": "markdown",
   "id": "eed46a7b",
   "metadata": {},
   "source": [
    "## Pre process data"
   ]
  },
  {
   "cell_type": "markdown",
   "id": "4a2a678a",
   "metadata": {},
   "source": [
    "### Remove special caracters"
   ]
  },
  {
   "cell_type": "code",
   "execution_count": 142,
   "id": "0bc48f16",
   "metadata": {
    "scrolled": true
   },
   "outputs": [
    {
     "data": {
      "text/html": [
       "<div>\n",
       "<style scoped>\n",
       "    .dataframe tbody tr th:only-of-type {\n",
       "        vertical-align: middle;\n",
       "    }\n",
       "\n",
       "    .dataframe tbody tr th {\n",
       "        vertical-align: top;\n",
       "    }\n",
       "\n",
       "    .dataframe thead th {\n",
       "        text-align: right;\n",
       "    }\n",
       "</style>\n",
       "<table border=\"1\" class=\"dataframe\">\n",
       "  <thead>\n",
       "    <tr style=\"text-align: right;\">\n",
       "      <th></th>\n",
       "      <th>airline_sentiment</th>\n",
       "      <th>airline</th>\n",
       "      <th>text</th>\n",
       "      <th>text_length</th>\n",
       "      <th>original_text</th>\n",
       "    </tr>\n",
       "  </thead>\n",
       "  <tbody>\n",
       "    <tr>\n",
       "      <th>0</th>\n",
       "      <td>neutral</td>\n",
       "      <td>Virgin America</td>\n",
       "      <td>What said.</td>\n",
       "      <td>35</td>\n",
       "      <td>@VirginAmerica What @dhepburn said.</td>\n",
       "    </tr>\n",
       "    <tr>\n",
       "      <th>1</th>\n",
       "      <td>positive</td>\n",
       "      <td>Virgin America</td>\n",
       "      <td>plus you've added commercials to the experienc...</td>\n",
       "      <td>72</td>\n",
       "      <td>@VirginAmerica plus you've added commercials t...</td>\n",
       "    </tr>\n",
       "    <tr>\n",
       "      <th>2</th>\n",
       "      <td>neutral</td>\n",
       "      <td>Virgin America</td>\n",
       "      <td>I didn't today... Must mean I need to take ano...</td>\n",
       "      <td>71</td>\n",
       "      <td>@VirginAmerica I didn't today... Must mean I n...</td>\n",
       "    </tr>\n",
       "    <tr>\n",
       "      <th>3</th>\n",
       "      <td>negative</td>\n",
       "      <td>Virgin America</td>\n",
       "      <td>it's really aggressive to blast obnoxious \"ent...</td>\n",
       "      <td>126</td>\n",
       "      <td>@VirginAmerica it's really aggressive to blast...</td>\n",
       "    </tr>\n",
       "    <tr>\n",
       "      <th>4</th>\n",
       "      <td>negative</td>\n",
       "      <td>Virgin America</td>\n",
       "      <td>and it's a really big bad thing about it</td>\n",
       "      <td>55</td>\n",
       "      <td>@VirginAmerica and it's a really big bad thing...</td>\n",
       "    </tr>\n",
       "  </tbody>\n",
       "</table>\n",
       "</div>"
      ],
      "text/plain": [
       "  airline_sentiment         airline  \\\n",
       "0           neutral  Virgin America   \n",
       "1          positive  Virgin America   \n",
       "2           neutral  Virgin America   \n",
       "3          negative  Virgin America   \n",
       "4          negative  Virgin America   \n",
       "\n",
       "                                                text  text_length  \\\n",
       "0                                         What said.           35   \n",
       "1  plus you've added commercials to the experienc...           72   \n",
       "2  I didn't today... Must mean I need to take ano...           71   \n",
       "3  it's really aggressive to blast obnoxious \"ent...          126   \n",
       "4           and it's a really big bad thing about it           55   \n",
       "\n",
       "                                       original_text  \n",
       "0                @VirginAmerica What @dhepburn said.  \n",
       "1  @VirginAmerica plus you've added commercials t...  \n",
       "2  @VirginAmerica I didn't today... Must mean I n...  \n",
       "3  @VirginAmerica it's really aggressive to blast...  \n",
       "4  @VirginAmerica and it's a really big bad thing...  "
      ]
     },
     "execution_count": 142,
     "metadata": {},
     "output_type": "execute_result"
    }
   ],
   "source": [
    "df['original_text'] = df['text']\n",
    "df['text'] = df['text'].apply(lambda x: remove_arobase(x, ['@', '#','http']))\n",
    "df.head()"
   ]
  },
  {
   "cell_type": "markdown",
   "id": "761b54b7",
   "metadata": {},
   "source": [
    "### Clean text (stop words)"
   ]
  },
  {
   "cell_type": "code",
   "execution_count": 143,
   "id": "434ed43d",
   "metadata": {},
   "outputs": [
    {
     "data": {
      "text/plain": [
       "['i',\n",
       " 'me',\n",
       " 'my',\n",
       " 'myself',\n",
       " 'we',\n",
       " 'our',\n",
       " 'ours',\n",
       " 'ourselves',\n",
       " 'you',\n",
       " \"you're\",\n",
       " \"you've\",\n",
       " \"you'll\",\n",
       " \"you'd\",\n",
       " 'your',\n",
       " 'yours',\n",
       " 'yourself',\n",
       " 'yourselves',\n",
       " 'he',\n",
       " 'him',\n",
       " 'his',\n",
       " 'himself',\n",
       " 'she',\n",
       " \"she's\",\n",
       " 'her',\n",
       " 'hers',\n",
       " 'herself',\n",
       " 'it',\n",
       " \"it's\",\n",
       " 'its',\n",
       " 'itself',\n",
       " 'they',\n",
       " 'them',\n",
       " 'their',\n",
       " 'theirs',\n",
       " 'themselves',\n",
       " 'what',\n",
       " 'which',\n",
       " 'who',\n",
       " 'whom',\n",
       " 'this',\n",
       " 'that',\n",
       " \"that'll\",\n",
       " 'these',\n",
       " 'those',\n",
       " 'am',\n",
       " 'is',\n",
       " 'are',\n",
       " 'was',\n",
       " 'were',\n",
       " 'be',\n",
       " 'been',\n",
       " 'being',\n",
       " 'have',\n",
       " 'has',\n",
       " 'had',\n",
       " 'having',\n",
       " 'do',\n",
       " 'does',\n",
       " 'did',\n",
       " 'doing',\n",
       " 'a',\n",
       " 'an',\n",
       " 'the',\n",
       " 'and',\n",
       " 'but',\n",
       " 'if',\n",
       " 'or',\n",
       " 'because',\n",
       " 'as',\n",
       " 'until',\n",
       " 'while',\n",
       " 'of',\n",
       " 'at',\n",
       " 'by',\n",
       " 'for',\n",
       " 'with',\n",
       " 'about',\n",
       " 'against',\n",
       " 'between',\n",
       " 'into',\n",
       " 'through',\n",
       " 'during',\n",
       " 'before',\n",
       " 'after',\n",
       " 'above',\n",
       " 'below',\n",
       " 'to',\n",
       " 'from',\n",
       " 'up',\n",
       " 'down',\n",
       " 'in',\n",
       " 'out',\n",
       " 'on',\n",
       " 'off',\n",
       " 'over',\n",
       " 'under',\n",
       " 'again',\n",
       " 'further',\n",
       " 'then',\n",
       " 'once',\n",
       " 'here',\n",
       " 'there',\n",
       " 'when',\n",
       " 'where',\n",
       " 'why',\n",
       " 'how',\n",
       " 'all',\n",
       " 'any',\n",
       " 'both',\n",
       " 'each',\n",
       " 'few',\n",
       " 'more',\n",
       " 'most',\n",
       " 'other',\n",
       " 'some',\n",
       " 'such',\n",
       " 'no',\n",
       " 'nor',\n",
       " 'not',\n",
       " 'only',\n",
       " 'own',\n",
       " 'same',\n",
       " 'so',\n",
       " 'than',\n",
       " 'too',\n",
       " 'very',\n",
       " 's',\n",
       " 't',\n",
       " 'can',\n",
       " 'will',\n",
       " 'just',\n",
       " 'don',\n",
       " \"don't\",\n",
       " 'should',\n",
       " \"should've\",\n",
       " 'now',\n",
       " 'd',\n",
       " 'll',\n",
       " 'm',\n",
       " 'o',\n",
       " 're',\n",
       " 've',\n",
       " 'y',\n",
       " 'ain',\n",
       " 'aren',\n",
       " \"aren't\",\n",
       " 'couldn',\n",
       " \"couldn't\",\n",
       " 'didn',\n",
       " \"didn't\",\n",
       " 'doesn',\n",
       " \"doesn't\",\n",
       " 'hadn',\n",
       " \"hadn't\",\n",
       " 'hasn',\n",
       " \"hasn't\",\n",
       " 'haven',\n",
       " \"haven't\",\n",
       " 'isn',\n",
       " \"isn't\",\n",
       " 'ma',\n",
       " 'mightn',\n",
       " \"mightn't\",\n",
       " 'mustn',\n",
       " \"mustn't\",\n",
       " 'needn',\n",
       " \"needn't\",\n",
       " 'shan',\n",
       " \"shan't\",\n",
       " 'shouldn',\n",
       " \"shouldn't\",\n",
       " 'wasn',\n",
       " \"wasn't\",\n",
       " 'weren',\n",
       " \"weren't\",\n",
       " 'won',\n",
       " \"won't\",\n",
       " 'wouldn',\n",
       " \"wouldn't\",\n",
       " 'amp',\n",
       " 'u',\n",
       " '2',\n",
       " 'im',\n",
       " 'go',\n",
       " 'guy',\n",
       " 'should',\n",
       " 'could',\n",
       " 'would',\n",
       " 'getthank',\n",
       " 'thanks']"
      ]
     },
     "execution_count": 143,
     "metadata": {},
     "output_type": "execute_result"
    }
   ],
   "source": [
    "# define stop words for this dataset\n",
    "stopwords_list = stopwords.words('english')\n",
    "stopwords_list.extend(['amp', #abreviation links to word such as 'F*ck'\n",
    "                       #'flight','thanks', #Two words that occur the most but do not give sens to topics\n",
    "                       'u','2','im','go','guy',\n",
    "                      'should','could','would','get'\n",
    "                      'thank','thanks']) # Words because of short way of writing\n",
    "#stopwords_list"
   ]
  },
  {
   "cell_type": "code",
   "execution_count": 144,
   "id": "2b2fc933",
   "metadata": {
    "scrolled": true
   },
   "outputs": [
    {
     "name": "stderr",
     "output_type": "stream",
     "text": [
      "<ipython-input-5-45c33ffb7bdb>:3: FutureWarning: The default value of regex will change from True to False in a future version.\n",
      "  df['text_cleaned'] = df.text.str.replace('[^a-zA-Z0-9 ]', '')\n"
     ]
    },
    {
     "data": {
      "text/html": [
       "<div>\n",
       "<style scoped>\n",
       "    .dataframe tbody tr th:only-of-type {\n",
       "        vertical-align: middle;\n",
       "    }\n",
       "\n",
       "    .dataframe tbody tr th {\n",
       "        vertical-align: top;\n",
       "    }\n",
       "\n",
       "    .dataframe thead th {\n",
       "        text-align: right;\n",
       "    }\n",
       "</style>\n",
       "<table border=\"1\" class=\"dataframe\">\n",
       "  <thead>\n",
       "    <tr style=\"text-align: right;\">\n",
       "      <th></th>\n",
       "      <th>airline_sentiment</th>\n",
       "      <th>airline</th>\n",
       "      <th>text</th>\n",
       "      <th>text_length</th>\n",
       "      <th>original_text</th>\n",
       "      <th>text_cleaned</th>\n",
       "    </tr>\n",
       "  </thead>\n",
       "  <tbody>\n",
       "    <tr>\n",
       "      <th>0</th>\n",
       "      <td>neutral</td>\n",
       "      <td>Virgin America</td>\n",
       "      <td>What said.</td>\n",
       "      <td>35</td>\n",
       "      <td>@VirginAmerica What @dhepburn said.</td>\n",
       "      <td>[said]</td>\n",
       "    </tr>\n",
       "    <tr>\n",
       "      <th>1</th>\n",
       "      <td>positive</td>\n",
       "      <td>Virgin America</td>\n",
       "      <td>plus you've added commercials to the experienc...</td>\n",
       "      <td>72</td>\n",
       "      <td>@VirginAmerica plus you've added commercials t...</td>\n",
       "      <td>[plus, youve, added, commercials, experience, ...</td>\n",
       "    </tr>\n",
       "    <tr>\n",
       "      <th>2</th>\n",
       "      <td>neutral</td>\n",
       "      <td>Virgin America</td>\n",
       "      <td>I didn't today... Must mean I need to take ano...</td>\n",
       "      <td>71</td>\n",
       "      <td>@VirginAmerica I didn't today... Must mean I n...</td>\n",
       "      <td>[didnt, today, must, mean, need, take, another...</td>\n",
       "    </tr>\n",
       "    <tr>\n",
       "      <th>3</th>\n",
       "      <td>negative</td>\n",
       "      <td>Virgin America</td>\n",
       "      <td>it's really aggressive to blast obnoxious \"ent...</td>\n",
       "      <td>126</td>\n",
       "      <td>@VirginAmerica it's really aggressive to blast...</td>\n",
       "      <td>[really, aggressive, blast, obnoxious, enterta...</td>\n",
       "    </tr>\n",
       "    <tr>\n",
       "      <th>4</th>\n",
       "      <td>negative</td>\n",
       "      <td>Virgin America</td>\n",
       "      <td>and it's a really big bad thing about it</td>\n",
       "      <td>55</td>\n",
       "      <td>@VirginAmerica and it's a really big bad thing...</td>\n",
       "      <td>[really, big, bad, thing]</td>\n",
       "    </tr>\n",
       "  </tbody>\n",
       "</table>\n",
       "</div>"
      ],
      "text/plain": [
       "  airline_sentiment         airline  \\\n",
       "0           neutral  Virgin America   \n",
       "1          positive  Virgin America   \n",
       "2           neutral  Virgin America   \n",
       "3          negative  Virgin America   \n",
       "4          negative  Virgin America   \n",
       "\n",
       "                                                text  text_length  \\\n",
       "0                                         What said.           35   \n",
       "1  plus you've added commercials to the experienc...           72   \n",
       "2  I didn't today... Must mean I need to take ano...           71   \n",
       "3  it's really aggressive to blast obnoxious \"ent...          126   \n",
       "4           and it's a really big bad thing about it           55   \n",
       "\n",
       "                                       original_text  \\\n",
       "0                @VirginAmerica What @dhepburn said.   \n",
       "1  @VirginAmerica plus you've added commercials t...   \n",
       "2  @VirginAmerica I didn't today... Must mean I n...   \n",
       "3  @VirginAmerica it's really aggressive to blast...   \n",
       "4  @VirginAmerica and it's a really big bad thing...   \n",
       "\n",
       "                                        text_cleaned  \n",
       "0                                             [said]  \n",
       "1  [plus, youve, added, commercials, experience, ...  \n",
       "2  [didnt, today, must, mean, need, take, another...  \n",
       "3  [really, aggressive, blast, obnoxious, enterta...  \n",
       "4                          [really, big, bad, thing]  "
      ]
     },
     "execution_count": 144,
     "metadata": {},
     "output_type": "execute_result"
    }
   ],
   "source": [
    "df = ReviewProcessing(df)\n",
    "df.head()"
   ]
  },
  {
   "cell_type": "markdown",
   "id": "1fc92e6f",
   "metadata": {},
   "source": [
    "### Lemmatize"
   ]
  },
  {
   "cell_type": "code",
   "execution_count": 145,
   "id": "c08550fc",
   "metadata": {},
   "outputs": [
    {
     "name": "stdout",
     "output_type": "stream",
     "text": [
      "Wall time: 3min 50s\n"
     ]
    }
   ],
   "source": [
    "%%time\n",
    "df.text_cleaned = df.text_cleaned.apply(' '.join)\n",
    "df['text_cleaned_lemmatized'] = df.text_cleaned.apply(get_lemmatize)"
   ]
  },
  {
   "cell_type": "code",
   "execution_count": 146,
   "id": "dd8b862b",
   "metadata": {
    "scrolled": false
   },
   "outputs": [
    {
     "data": {
      "text/html": [
       "<div>\n",
       "<style scoped>\n",
       "    .dataframe tbody tr th:only-of-type {\n",
       "        vertical-align: middle;\n",
       "    }\n",
       "\n",
       "    .dataframe tbody tr th {\n",
       "        vertical-align: top;\n",
       "    }\n",
       "\n",
       "    .dataframe thead th {\n",
       "        text-align: right;\n",
       "    }\n",
       "</style>\n",
       "<table border=\"1\" class=\"dataframe\">\n",
       "  <thead>\n",
       "    <tr style=\"text-align: right;\">\n",
       "      <th></th>\n",
       "      <th>airline_sentiment</th>\n",
       "      <th>airline</th>\n",
       "      <th>text</th>\n",
       "      <th>text_length</th>\n",
       "      <th>original_text</th>\n",
       "      <th>text_cleaned</th>\n",
       "      <th>text_cleaned_lemmatized</th>\n",
       "    </tr>\n",
       "  </thead>\n",
       "  <tbody>\n",
       "    <tr>\n",
       "      <th>0</th>\n",
       "      <td>neutral</td>\n",
       "      <td>Virgin America</td>\n",
       "      <td>What said.</td>\n",
       "      <td>35</td>\n",
       "      <td>@VirginAmerica What @dhepburn said.</td>\n",
       "      <td>said</td>\n",
       "      <td>say</td>\n",
       "    </tr>\n",
       "    <tr>\n",
       "      <th>1</th>\n",
       "      <td>positive</td>\n",
       "      <td>Virgin America</td>\n",
       "      <td>plus you've added commercials to the experienc...</td>\n",
       "      <td>72</td>\n",
       "      <td>@VirginAmerica plus you've added commercials t...</td>\n",
       "      <td>plus youve added commercials experience tacky</td>\n",
       "      <td>plus youve add commercial experience tacky</td>\n",
       "    </tr>\n",
       "    <tr>\n",
       "      <th>2</th>\n",
       "      <td>neutral</td>\n",
       "      <td>Virgin America</td>\n",
       "      <td>I didn't today... Must mean I need to take ano...</td>\n",
       "      <td>71</td>\n",
       "      <td>@VirginAmerica I didn't today... Must mean I n...</td>\n",
       "      <td>didnt today must mean need take another trip</td>\n",
       "      <td>didnt today must mean need take another trip</td>\n",
       "    </tr>\n",
       "    <tr>\n",
       "      <th>3</th>\n",
       "      <td>negative</td>\n",
       "      <td>Virgin America</td>\n",
       "      <td>it's really aggressive to blast obnoxious \"ent...</td>\n",
       "      <td>126</td>\n",
       "      <td>@VirginAmerica it's really aggressive to blast...</td>\n",
       "      <td>really aggressive blast obnoxious entertainmen...</td>\n",
       "      <td>really aggressive blast obnoxious entertainmen...</td>\n",
       "    </tr>\n",
       "    <tr>\n",
       "      <th>4</th>\n",
       "      <td>negative</td>\n",
       "      <td>Virgin America</td>\n",
       "      <td>and it's a really big bad thing about it</td>\n",
       "      <td>55</td>\n",
       "      <td>@VirginAmerica and it's a really big bad thing...</td>\n",
       "      <td>really big bad thing</td>\n",
       "      <td>really big bad thing</td>\n",
       "    </tr>\n",
       "  </tbody>\n",
       "</table>\n",
       "</div>"
      ],
      "text/plain": [
       "  airline_sentiment         airline  \\\n",
       "0           neutral  Virgin America   \n",
       "1          positive  Virgin America   \n",
       "2           neutral  Virgin America   \n",
       "3          negative  Virgin America   \n",
       "4          negative  Virgin America   \n",
       "\n",
       "                                                text  text_length  \\\n",
       "0                                         What said.           35   \n",
       "1  plus you've added commercials to the experienc...           72   \n",
       "2  I didn't today... Must mean I need to take ano...           71   \n",
       "3  it's really aggressive to blast obnoxious \"ent...          126   \n",
       "4           and it's a really big bad thing about it           55   \n",
       "\n",
       "                                       original_text  \\\n",
       "0                @VirginAmerica What @dhepburn said.   \n",
       "1  @VirginAmerica plus you've added commercials t...   \n",
       "2  @VirginAmerica I didn't today... Must mean I n...   \n",
       "3  @VirginAmerica it's really aggressive to blast...   \n",
       "4  @VirginAmerica and it's a really big bad thing...   \n",
       "\n",
       "                                        text_cleaned  \\\n",
       "0                                               said   \n",
       "1      plus youve added commercials experience tacky   \n",
       "2       didnt today must mean need take another trip   \n",
       "3  really aggressive blast obnoxious entertainmen...   \n",
       "4                               really big bad thing   \n",
       "\n",
       "                             text_cleaned_lemmatized  \n",
       "0                                                say  \n",
       "1         plus youve add commercial experience tacky  \n",
       "2       didnt today must mean need take another trip  \n",
       "3  really aggressive blast obnoxious entertainmen...  \n",
       "4                               really big bad thing  "
      ]
     },
     "execution_count": 146,
     "metadata": {},
     "output_type": "execute_result"
    }
   ],
   "source": [
    "df.head()"
   ]
  },
  {
   "cell_type": "markdown",
   "id": "b9e90480",
   "metadata": {},
   "source": [
    "### Tokenize and re sub spotword"
   ]
  },
  {
   "cell_type": "code",
   "execution_count": 147,
   "id": "f8b189fa",
   "metadata": {},
   "outputs": [
    {
     "name": "stderr",
     "output_type": "stream",
     "text": [
      "<ipython-input-5-45c33ffb7bdb>:13: FutureWarning: The default value of regex will change from True to False in a future version.\n",
      "  df['tokenize'] = df.text_cleaned_lemmatized.str.replace('[^a-zA-Z0-9 ]', '')\n"
     ]
    },
    {
     "data": {
      "text/html": [
       "<div>\n",
       "<style scoped>\n",
       "    .dataframe tbody tr th:only-of-type {\n",
       "        vertical-align: middle;\n",
       "    }\n",
       "\n",
       "    .dataframe tbody tr th {\n",
       "        vertical-align: top;\n",
       "    }\n",
       "\n",
       "    .dataframe thead th {\n",
       "        text-align: right;\n",
       "    }\n",
       "</style>\n",
       "<table border=\"1\" class=\"dataframe\">\n",
       "  <thead>\n",
       "    <tr style=\"text-align: right;\">\n",
       "      <th></th>\n",
       "      <th>airline_sentiment</th>\n",
       "      <th>airline</th>\n",
       "      <th>text</th>\n",
       "      <th>text_length</th>\n",
       "      <th>original_text</th>\n",
       "      <th>text_cleaned</th>\n",
       "      <th>text_cleaned_lemmatized</th>\n",
       "      <th>tokenize</th>\n",
       "    </tr>\n",
       "  </thead>\n",
       "  <tbody>\n",
       "    <tr>\n",
       "      <th>0</th>\n",
       "      <td>neutral</td>\n",
       "      <td>Virgin America</td>\n",
       "      <td>What said.</td>\n",
       "      <td>35</td>\n",
       "      <td>@VirginAmerica What @dhepburn said.</td>\n",
       "      <td>said</td>\n",
       "      <td>say</td>\n",
       "      <td>[say]</td>\n",
       "    </tr>\n",
       "    <tr>\n",
       "      <th>1</th>\n",
       "      <td>positive</td>\n",
       "      <td>Virgin America</td>\n",
       "      <td>plus you've added commercials to the experienc...</td>\n",
       "      <td>72</td>\n",
       "      <td>@VirginAmerica plus you've added commercials t...</td>\n",
       "      <td>plus youve added commercials experience tacky</td>\n",
       "      <td>plus youve add commercial experience tacky</td>\n",
       "      <td>[plus, youve, add, commercial, experience, tacky]</td>\n",
       "    </tr>\n",
       "    <tr>\n",
       "      <th>2</th>\n",
       "      <td>neutral</td>\n",
       "      <td>Virgin America</td>\n",
       "      <td>I didn't today... Must mean I need to take ano...</td>\n",
       "      <td>71</td>\n",
       "      <td>@VirginAmerica I didn't today... Must mean I n...</td>\n",
       "      <td>didnt today must mean need take another trip</td>\n",
       "      <td>didnt today must mean need take another trip</td>\n",
       "      <td>[didnt, today, must, mean, need, take, another...</td>\n",
       "    </tr>\n",
       "    <tr>\n",
       "      <th>3</th>\n",
       "      <td>negative</td>\n",
       "      <td>Virgin America</td>\n",
       "      <td>it's really aggressive to blast obnoxious \"ent...</td>\n",
       "      <td>126</td>\n",
       "      <td>@VirginAmerica it's really aggressive to blast...</td>\n",
       "      <td>really aggressive blast obnoxious entertainmen...</td>\n",
       "      <td>really aggressive blast obnoxious entertainmen...</td>\n",
       "      <td>[really, aggressive, blast, obnoxious, enterta...</td>\n",
       "    </tr>\n",
       "    <tr>\n",
       "      <th>4</th>\n",
       "      <td>negative</td>\n",
       "      <td>Virgin America</td>\n",
       "      <td>and it's a really big bad thing about it</td>\n",
       "      <td>55</td>\n",
       "      <td>@VirginAmerica and it's a really big bad thing...</td>\n",
       "      <td>really big bad thing</td>\n",
       "      <td>really big bad thing</td>\n",
       "      <td>[really, big, bad, thing]</td>\n",
       "    </tr>\n",
       "  </tbody>\n",
       "</table>\n",
       "</div>"
      ],
      "text/plain": [
       "  airline_sentiment         airline  \\\n",
       "0           neutral  Virgin America   \n",
       "1          positive  Virgin America   \n",
       "2           neutral  Virgin America   \n",
       "3          negative  Virgin America   \n",
       "4          negative  Virgin America   \n",
       "\n",
       "                                                text  text_length  \\\n",
       "0                                         What said.           35   \n",
       "1  plus you've added commercials to the experienc...           72   \n",
       "2  I didn't today... Must mean I need to take ano...           71   \n",
       "3  it's really aggressive to blast obnoxious \"ent...          126   \n",
       "4           and it's a really big bad thing about it           55   \n",
       "\n",
       "                                       original_text  \\\n",
       "0                @VirginAmerica What @dhepburn said.   \n",
       "1  @VirginAmerica plus you've added commercials t...   \n",
       "2  @VirginAmerica I didn't today... Must mean I n...   \n",
       "3  @VirginAmerica it's really aggressive to blast...   \n",
       "4  @VirginAmerica and it's a really big bad thing...   \n",
       "\n",
       "                                        text_cleaned  \\\n",
       "0                                               said   \n",
       "1      plus youve added commercials experience tacky   \n",
       "2       didnt today must mean need take another trip   \n",
       "3  really aggressive blast obnoxious entertainmen...   \n",
       "4                               really big bad thing   \n",
       "\n",
       "                             text_cleaned_lemmatized  \\\n",
       "0                                                say   \n",
       "1         plus youve add commercial experience tacky   \n",
       "2       didnt today must mean need take another trip   \n",
       "3  really aggressive blast obnoxious entertainmen...   \n",
       "4                               really big bad thing   \n",
       "\n",
       "                                            tokenize  \n",
       "0                                              [say]  \n",
       "1  [plus, youve, add, commercial, experience, tacky]  \n",
       "2  [didnt, today, must, mean, need, take, another...  \n",
       "3  [really, aggressive, blast, obnoxious, enterta...  \n",
       "4                          [really, big, bad, thing]  "
      ]
     },
     "execution_count": 147,
     "metadata": {},
     "output_type": "execute_result"
    }
   ],
   "source": [
    "df = LemProcessing(df)\n",
    "df.head()"
   ]
  },
  {
   "cell_type": "code",
   "execution_count": 84,
   "id": "bd1045b8",
   "metadata": {},
   "outputs": [],
   "source": [
    "#df['tokenized_text'] = df.apply(lambda row: nltk.word_tokenize(row['text_cleaned_lemmatized']), axis=1)\n",
    "#df.head()"
   ]
  },
  {
   "cell_type": "markdown",
   "id": "bb9e2753",
   "metadata": {},
   "source": [
    "## Quick visualisation"
   ]
  },
  {
   "cell_type": "markdown",
   "id": "92473f73",
   "metadata": {},
   "source": [
    "### Tweet length distribution"
   ]
  },
  {
   "cell_type": "code",
   "execution_count": 148,
   "id": "c4f488dc",
   "metadata": {},
   "outputs": [
    {
     "data": {
      "text/plain": [
       "Text(0.5, 1.0, 'Tweet Length Distribution')"
      ]
     },
     "execution_count": 148,
     "metadata": {},
     "output_type": "execute_result"
    },
    {
     "data": {
      "image/png": "[encoded data removed]",
      "text/plain": [
       "<Figure size 432x288 with 1 Axes>"
      ]
     },
     "metadata": {},
     "output_type": "display_data"
    }
   ],
   "source": [
    "sns.histplot(data=df, x='text_length', bins='auto', color='darkblue');\n",
    "plt.title('Tweet Length Distribution')"
   ]
  },
  {
   "cell_type": "markdown",
   "id": "450ac9d4",
   "metadata": {},
   "source": [
    "### Distribution of Sentiment Labels"
   ]
  },
  {
   "cell_type": "code",
   "execution_count": 149,
   "id": "0b98e714",
   "metadata": {},
   "outputs": [
    {
     "data": {
      "image/png": "[encoded data removed]",
      "text/plain": [
       "<Figure size 432x288 with 1 Axes>"
      ]
     },
     "metadata": {},
     "output_type": "display_data"
    }
   ],
   "source": [
    "ax = plt.subplot(111)\n",
    "sentCounts = dict(Counter(df['airline_sentiment']))\n",
    "barPolt = plt.bar(range(len(sentCounts)),sentCounts.values())\n",
    "plt.xticks([i+0.5 for i in range(len(sentCounts.keys()))],sentCounts.keys(),rotation=45,ha='right',fontsize=18)\n",
    "ax.set_title('Tweets in function of sentiments \\n',fontsize=24,fontweight='bold')\n",
    "yTix = plt.yticks()[0]\n",
    "plt.yticks(yTix,fontsize=16)\n",
    "plt.show()"
   ]
  },
  {
   "cell_type": "markdown",
   "id": "9fa10764",
   "metadata": {},
   "source": [
    "### Airline distribution"
   ]
  },
  {
   "cell_type": "code",
   "execution_count": 150,
   "id": "c873cbc0",
   "metadata": {
    "scrolled": true
   },
   "outputs": [
    {
     "data": {
      "image/png": "[encoded data removed]",
      "text/plain": [
       "<Figure size 432x288 with 1 Axes>"
      ]
     },
     "metadata": {},
     "output_type": "display_data"
    }
   ],
   "source": [
    "ax = plt.subplot(111)\n",
    "airCounts = dict(Counter(df['airline']))\n",
    "barPolt = plt.bar(range(len(airCounts)),airCounts.values())\n",
    "plt.xticks([i+0.5 for i in range(len(airCounts.keys()))],airCounts.keys(),rotation=45,ha='right',fontsize=18)\n",
    "ax.set_title('Tweets to airlines \\n',fontsize=24,fontweight='bold')\n",
    "yTix = plt.yticks()[0]\n",
    "plt.yticks(yTix,fontsize=16)\n",
    "plt.show()"
   ]
  },
  {
   "cell_type": "markdown",
   "id": "0190daf8",
   "metadata": {},
   "source": [
    "### Part of sentiments for each airline"
   ]
  },
  {
   "cell_type": "code",
   "execution_count": 151,
   "id": "d4a0f45d",
   "metadata": {},
   "outputs": [
    {
     "data": {
      "text/html": [
       "<div>\n",
       "<style scoped>\n",
       "    .dataframe tbody tr th:only-of-type {\n",
       "        vertical-align: middle;\n",
       "    }\n",
       "\n",
       "    .dataframe tbody tr th {\n",
       "        vertical-align: top;\n",
       "    }\n",
       "\n",
       "    .dataframe thead th {\n",
       "        text-align: right;\n",
       "    }\n",
       "</style>\n",
       "<table border=\"1\" class=\"dataframe\">\n",
       "  <thead>\n",
       "    <tr style=\"text-align: right;\">\n",
       "      <th>airline_sentiment</th>\n",
       "      <th>negative</th>\n",
       "      <th>neutral</th>\n",
       "      <th>positive</th>\n",
       "      <th>Total</th>\n",
       "    </tr>\n",
       "    <tr>\n",
       "      <th>airline</th>\n",
       "      <th></th>\n",
       "      <th></th>\n",
       "      <th></th>\n",
       "      <th></th>\n",
       "    </tr>\n",
       "  </thead>\n",
       "  <tbody>\n",
       "    <tr>\n",
       "      <th>American</th>\n",
       "      <td>71.04</td>\n",
       "      <td>16.78</td>\n",
       "      <td>12.18</td>\n",
       "      <td>100.0</td>\n",
       "    </tr>\n",
       "    <tr>\n",
       "      <th>Delta</th>\n",
       "      <td>42.98</td>\n",
       "      <td>32.54</td>\n",
       "      <td>24.48</td>\n",
       "      <td>100.0</td>\n",
       "    </tr>\n",
       "    <tr>\n",
       "      <th>Southwest</th>\n",
       "      <td>49.01</td>\n",
       "      <td>27.44</td>\n",
       "      <td>23.55</td>\n",
       "      <td>100.0</td>\n",
       "    </tr>\n",
       "    <tr>\n",
       "      <th>US Airways</th>\n",
       "      <td>77.69</td>\n",
       "      <td>13.08</td>\n",
       "      <td>9.23</td>\n",
       "      <td>100.0</td>\n",
       "    </tr>\n",
       "    <tr>\n",
       "      <th>United</th>\n",
       "      <td>68.89</td>\n",
       "      <td>18.24</td>\n",
       "      <td>12.87</td>\n",
       "      <td>100.0</td>\n",
       "    </tr>\n",
       "    <tr>\n",
       "      <th>Virgin America</th>\n",
       "      <td>35.91</td>\n",
       "      <td>33.93</td>\n",
       "      <td>30.16</td>\n",
       "      <td>100.0</td>\n",
       "    </tr>\n",
       "  </tbody>\n",
       "</table>\n",
       "</div>"
      ],
      "text/plain": [
       "airline_sentiment  negative  neutral  positive  Total\n",
       "airline                                              \n",
       "American              71.04    16.78     12.18  100.0\n",
       "Delta                 42.98    32.54     24.48  100.0\n",
       "Southwest             49.01    27.44     23.55  100.0\n",
       "US Airways            77.69    13.08      9.23  100.0\n",
       "United                68.89    18.24     12.87  100.0\n",
       "Virgin America        35.91    33.93     30.16  100.0"
      ]
     },
     "execution_count": 151,
     "metadata": {},
     "output_type": "execute_result"
    }
   ],
   "source": [
    "freq = pd.crosstab(columns=df['airline_sentiment'], \n",
    "                    index=df['airline'])\\\n",
    ".apply(lambda r: r/r.sum(), axis=1)\\\n",
    ".round(4)*100\n",
    "freq ['Total'] = freq ['negative'] + freq ['neutral'] + freq ['positive']\n",
    "freq "
   ]
  },
  {
   "cell_type": "code",
   "execution_count": 154,
   "id": "fb8bd858",
   "metadata": {},
   "outputs": [
    {
     "name": "stdout",
     "output_type": "stream",
     "text": [
      "Orignal Text : @VirginAmerica trying to add my boy Prince to my ressie. SF this Thursday @VirginAmerica from LAX http://t.co/GsB2J3c4gM\n",
      "\n",
      "Preprocessed Text : try add boy prince ressie sf thursday lax\n"
     ]
    }
   ],
   "source": [
    "print(f\"Orignal Text : {df.original_text[100]}\")\n",
    "print()\n",
    "print(f\"Preprocessed Text : {df.text_cleaned_lemmatized[100]}\")"
   ]
  },
  {
   "cell_type": "code",
   "execution_count": 155,
   "id": "4f26e9d0",
   "metadata": {},
   "outputs": [
    {
     "data": {
      "text/plain": [
       "(14640, 8)"
      ]
     },
     "execution_count": 155,
     "metadata": {},
     "output_type": "execute_result"
    }
   ],
   "source": [
    "df = df.dropna()\n",
    "df.shape"
   ]
  },
  {
   "cell_type": "markdown",
   "id": "fdf4769c",
   "metadata": {},
   "source": [
    "## Creat dictionary and corpus to build LDA"
   ]
  },
  {
   "cell_type": "code",
   "execution_count": null,
   "id": "10a97bb4",
   "metadata": {},
   "outputs": [],
   "source": [
    "# Gensim\n",
    "import gensim, spacy, logging, warnings\n",
    "import gensim.corpora as corpora\n",
    "from gensim.utils import simple_preprocess\n",
    "from gensim.models import CoherenceModel\n",
    "import matplotlib.pyplot as plt"
   ]
  },
  {
   "cell_type": "code",
   "execution_count": 156,
   "id": "36f134a3",
   "metadata": {},
   "outputs": [
    {
     "name": "stdout",
     "output_type": "stream",
     "text": [
      "[(0, 1)]\n"
     ]
    }
   ],
   "source": [
    "data_words = df[\"tokenize\"]\n",
    "# Create Dictionary\n",
    "id2word = corpora.Dictionary(data_words)\n",
    "# Create Corpus\n",
    "texts = data_words\n",
    "# Term Document Frequency\n",
    "corpus = [id2word.doc2bow(text) for text in texts]\n",
    "# View\n",
    "print(corpus[:1][0][:30])"
   ]
  },
  {
   "cell_type": "markdown",
   "id": "67105c41",
   "metadata": {},
   "source": [
    "## Build LDA model"
   ]
  },
  {
   "cell_type": "code",
   "execution_count": 157,
   "id": "0998d126",
   "metadata": {},
   "outputs": [
    {
     "name": "stderr",
     "output_type": "stream",
     "text": [
      "WARNING:gensim.models.ldamulticore:too few updates, training might not converge; consider increasing the number of passes or iterations to improve accuracy\n"
     ]
    }
   ],
   "source": [
    "# number of topics\n",
    "num_topics = 4\n",
    "# Build LDA model\n",
    "lda_model = gensim.models.LdaMulticore(corpus=corpus,\n",
    "                                       id2word=id2word,\n",
    "                                       num_topics=num_topics)\n",
    "\n",
    "# Print the Keyword in the 10 topics\n",
    "#pprint(lda_model.print_topics())\n",
    "doc_lda = lda_model[corpus]"
   ]
  },
  {
   "cell_type": "code",
   "execution_count": 158,
   "id": "98877cb6",
   "metadata": {},
   "outputs": [
    {
     "data": {
      "text/plain": [
       "[(0,\n",
       "  '0.015*\"flight\" + 0.014*\"get\" + 0.011*\"hour\" + 0.009*\"thank\" + 0.009*\"call\" + 0.008*\"time\" + 0.007*\"one\" + 0.006*\"please\" + 0.006*\"cancel\" + 0.006*\"want\"'),\n",
       " (1,\n",
       "  '0.063*\"flight\" + 0.017*\"cancel\" + 0.015*\"get\" + 0.012*\"service\" + 0.011*\"customer\" + 0.009*\"call\" + 0.007*\"try\" + 0.006*\"hour\" + 0.006*\"need\" + 0.006*\"flightled\"'),\n",
       " (2,\n",
       "  '0.021*\"get\" + 0.018*\"flight\" + 0.011*\"help\" + 0.011*\"plane\" + 0.011*\"hour\" + 0.009*\"wait\" + 0.008*\"need\" + 0.008*\"time\" + 0.007*\"bag\" + 0.007*\"make\"'),\n",
       " (3,\n",
       "  '0.032*\"flight\" + 0.013*\"get\" + 0.009*\"help\" + 0.009*\"service\" + 0.008*\"call\" + 0.008*\"customer\" + 0.007*\"hour\" + 0.007*\"cancel\" + 0.007*\"take\" + 0.006*\"fly\"')]"
      ]
     },
     "execution_count": 158,
     "metadata": {},
     "output_type": "execute_result"
    }
   ],
   "source": [
    "lda_model.print_topics()"
   ]
  },
  {
   "cell_type": "markdown",
   "id": "6e832d49",
   "metadata": {},
   "source": [
    "## Visualisation of LDA topics"
   ]
  },
  {
   "cell_type": "markdown",
   "id": "e6f7c4c1",
   "metadata": {},
   "source": [
    "### Definition of a function that create a clear df"
   ]
  },
  {
   "cell_type": "code",
   "execution_count": 159,
   "id": "380e10a9",
   "metadata": {},
   "outputs": [],
   "source": [
    "from tqdm.notebook import tqdm #progress bar\n",
    "def format_topics_sentences(ldamodel=None, corpus=corpus):\n",
    "    # Init output\n",
    "    sent_topics_df = pd.DataFrame()\n",
    "\n",
    "    # Get main topic in each document\n",
    "    for i, row_list in tqdm(enumerate(ldamodel[corpus]), total =len(texts), desc = 'Progess ' ):\n",
    "        row = row_list[0] if ldamodel.per_word_topics else row_list            \n",
    "        # print(row)\n",
    "        row = sorted(row, key=lambda x: (x[1]), reverse=True)\n",
    "        # Get the Dominant topic, Perc Contribution and Keywords for each document\n",
    "        for j, (topic_num, prop_topic) in enumerate(row):\n",
    "            if j == 0:  # => dominant topic\n",
    "                wp = ldamodel.show_topic(topic_num)\n",
    "                topic_keywords = \", \".join([word for word, prop in wp])\n",
    "                sent_topics_df = sent_topics_df.append(pd.Series([int(topic_num), round(prop_topic,4), topic_keywords]), ignore_index=True)\n",
    "            else:\n",
    "                break\n",
    "    sent_topics_df.columns = ['Dominant_Topic', 'Perc_Contribution', 'Topic_Keywords']\n",
    "    \n",
    "    return(sent_topics_df)"
   ]
  },
  {
   "cell_type": "code",
   "execution_count": 160,
   "id": "c4794382",
   "metadata": {},
   "outputs": [
    {
     "data": {
      "application/vnd.jupyter.widget-view+json": {
       "model_id": "2ccdc81242a34d0e82eb70b0979f0c13",
       "version_major": 2,
       "version_minor": 0
      },
      "text/plain": [
       "Progess :   0%|          | 0/14640 [00:00<?, ?it/s]"
      ]
     },
     "metadata": {},
     "output_type": "display_data"
    }
   ],
   "source": [
    "#Use the function\n",
    "df_topic_sents_keywords = format_topics_sentences(ldamodel=lda_model, corpus=corpus)"
   ]
  },
  {
   "cell_type": "code",
   "execution_count": 161,
   "id": "000630c4",
   "metadata": {},
   "outputs": [],
   "source": [
    "df_dominant_topic = df_topic_sents_keywords.copy()"
   ]
  },
  {
   "cell_type": "code",
   "execution_count": 162,
   "id": "8c9803c9",
   "metadata": {
    "scrolled": true
   },
   "outputs": [
    {
     "data": {
      "text/html": [
       "<div>\n",
       "<style scoped>\n",
       "    .dataframe tbody tr th:only-of-type {\n",
       "        vertical-align: middle;\n",
       "    }\n",
       "\n",
       "    .dataframe tbody tr th {\n",
       "        vertical-align: top;\n",
       "    }\n",
       "\n",
       "    .dataframe thead th {\n",
       "        text-align: right;\n",
       "    }\n",
       "</style>\n",
       "<table border=\"1\" class=\"dataframe\">\n",
       "  <thead>\n",
       "    <tr style=\"text-align: right;\">\n",
       "      <th></th>\n",
       "      <th>Document_No</th>\n",
       "      <th>Dominant_Topic</th>\n",
       "      <th>Topic_Perc_Contrib</th>\n",
       "      <th>Keywords</th>\n",
       "      <th>Text</th>\n",
       "      <th>Sentiment</th>\n",
       "      <th>Airline</th>\n",
       "    </tr>\n",
       "  </thead>\n",
       "  <tbody>\n",
       "    <tr>\n",
       "      <th>0</th>\n",
       "      <td>0</td>\n",
       "      <td>1.0</td>\n",
       "      <td>0.5883</td>\n",
       "      <td>flight, cancel, get, service, customer, call, ...</td>\n",
       "      <td>What said.</td>\n",
       "      <td>neutral</td>\n",
       "      <td>Virgin America</td>\n",
       "    </tr>\n",
       "    <tr>\n",
       "      <th>1</th>\n",
       "      <td>1</td>\n",
       "      <td>2.0</td>\n",
       "      <td>0.8866</td>\n",
       "      <td>get, flight, help, plane, hour, wait, need, ti...</td>\n",
       "      <td>plus you've added commercials to the experienc...</td>\n",
       "      <td>positive</td>\n",
       "      <td>Virgin America</td>\n",
       "    </tr>\n",
       "    <tr>\n",
       "      <th>2</th>\n",
       "      <td>2</td>\n",
       "      <td>2.0</td>\n",
       "      <td>0.5877</td>\n",
       "      <td>get, flight, help, plane, hour, wait, need, ti...</td>\n",
       "      <td>I didn't today... Must mean I need to take ano...</td>\n",
       "      <td>neutral</td>\n",
       "      <td>Virgin America</td>\n",
       "    </tr>\n",
       "    <tr>\n",
       "      <th>3</th>\n",
       "      <td>3</td>\n",
       "      <td>0.0</td>\n",
       "      <td>0.9175</td>\n",
       "      <td>flight, get, hour, thank, call, time, one, ple...</td>\n",
       "      <td>it's really aggressive to blast obnoxious \"ent...</td>\n",
       "      <td>negative</td>\n",
       "      <td>Virgin America</td>\n",
       "    </tr>\n",
       "    <tr>\n",
       "      <th>4</th>\n",
       "      <td>4</td>\n",
       "      <td>1.0</td>\n",
       "      <td>0.8386</td>\n",
       "      <td>flight, cancel, get, service, customer, call, ...</td>\n",
       "      <td>and it's a really big bad thing about it</td>\n",
       "      <td>negative</td>\n",
       "      <td>Virgin America</td>\n",
       "    </tr>\n",
       "    <tr>\n",
       "      <th>5</th>\n",
       "      <td>5</td>\n",
       "      <td>3.0</td>\n",
       "      <td>0.8626</td>\n",
       "      <td>flight, get, help, service, call, customer, ho...</td>\n",
       "      <td>seriously would pay $30 a flight for seats tha...</td>\n",
       "      <td>negative</td>\n",
       "      <td>Virgin America</td>\n",
       "    </tr>\n",
       "    <tr>\n",
       "      <th>6</th>\n",
       "      <td>6</td>\n",
       "      <td>0.0</td>\n",
       "      <td>0.9283</td>\n",
       "      <td>flight, get, hour, thank, call, time, one, ple...</td>\n",
       "      <td>yes, nearly every time I fly VX this “ear worm...</td>\n",
       "      <td>positive</td>\n",
       "      <td>Virgin America</td>\n",
       "    </tr>\n",
       "    <tr>\n",
       "      <th>7</th>\n",
       "      <td>7</td>\n",
       "      <td>0.0</td>\n",
       "      <td>0.9098</td>\n",
       "      <td>flight, get, hour, thank, call, time, one, ple...</td>\n",
       "      <td>Really missed a prime opportunity for Men With...</td>\n",
       "      <td>neutral</td>\n",
       "      <td>Virgin America</td>\n",
       "    </tr>\n",
       "    <tr>\n",
       "      <th>8</th>\n",
       "      <td>8</td>\n",
       "      <td>0.0</td>\n",
       "      <td>0.7435</td>\n",
       "      <td>flight, get, hour, thank, call, time, one, ple...</td>\n",
       "      <td>Well, I didn't…but NOW I DO! :-D</td>\n",
       "      <td>positive</td>\n",
       "      <td>Virgin America</td>\n",
       "    </tr>\n",
       "    <tr>\n",
       "      <th>9</th>\n",
       "      <td>9</td>\n",
       "      <td>3.0</td>\n",
       "      <td>0.6240</td>\n",
       "      <td>flight, get, help, service, call, customer, ho...</td>\n",
       "      <td>it was amazing, and arrived an hour early. You...</td>\n",
       "      <td>positive</td>\n",
       "      <td>Virgin America</td>\n",
       "    </tr>\n",
       "  </tbody>\n",
       "</table>\n",
       "</div>"
      ],
      "text/plain": [
       "   Document_No  Dominant_Topic  Topic_Perc_Contrib  \\\n",
       "0            0             1.0              0.5883   \n",
       "1            1             2.0              0.8866   \n",
       "2            2             2.0              0.5877   \n",
       "3            3             0.0              0.9175   \n",
       "4            4             1.0              0.8386   \n",
       "5            5             3.0              0.8626   \n",
       "6            6             0.0              0.9283   \n",
       "7            7             0.0              0.9098   \n",
       "8            8             0.0              0.7435   \n",
       "9            9             3.0              0.6240   \n",
       "\n",
       "                                            Keywords  \\\n",
       "0  flight, cancel, get, service, customer, call, ...   \n",
       "1  get, flight, help, plane, hour, wait, need, ti...   \n",
       "2  get, flight, help, plane, hour, wait, need, ti...   \n",
       "3  flight, get, hour, thank, call, time, one, ple...   \n",
       "4  flight, cancel, get, service, customer, call, ...   \n",
       "5  flight, get, help, service, call, customer, ho...   \n",
       "6  flight, get, hour, thank, call, time, one, ple...   \n",
       "7  flight, get, hour, thank, call, time, one, ple...   \n",
       "8  flight, get, hour, thank, call, time, one, ple...   \n",
       "9  flight, get, help, service, call, customer, ho...   \n",
       "\n",
       "                                                Text Sentiment         Airline  \n",
       "0                                         What said.   neutral  Virgin America  \n",
       "1  plus you've added commercials to the experienc...  positive  Virgin America  \n",
       "2  I didn't today... Must mean I need to take ano...   neutral  Virgin America  \n",
       "3  it's really aggressive to blast obnoxious \"ent...  negative  Virgin America  \n",
       "4           and it's a really big bad thing about it  negative  Virgin America  \n",
       "5  seriously would pay $30 a flight for seats tha...  negative  Virgin America  \n",
       "6  yes, nearly every time I fly VX this “ear worm...  positive  Virgin America  \n",
       "7  Really missed a prime opportunity for Men With...   neutral  Virgin America  \n",
       "8                   Well, I didn't…but NOW I DO! :-D  positive  Virgin America  \n",
       "9  it was amazing, and arrived an hour early. You...  positive  Virgin America  "
      ]
     },
     "execution_count": 162,
     "metadata": {},
     "output_type": "execute_result"
    }
   ],
   "source": [
    "# Format\n",
    "#airline = df.airline\n",
    "# Add original text to the end of the output\n",
    "df_dominant_topic = pd.concat([df_dominant_topic, df.text], axis=1)\n",
    "# Add sentiment\n",
    "df_dominant_topic = pd.concat([df_dominant_topic, df.airline_sentiment], axis=1)\n",
    "# Add airline\n",
    "df_dominant_topic = pd.concat([df_dominant_topic, df.airline],axis=1)\n",
    "df_dominant_topic = df_dominant_topic.reset_index()\n",
    "\n",
    "df_dominant_topic.columns = ['Document_No',\n",
    "                             'Dominant_Topic',\n",
    "                             'Topic_Perc_Contrib', \n",
    "                             'Keywords',\n",
    "                             'Text',\n",
    "                             'Sentiment',\n",
    "                             'Airline']\n",
    "df_dominant_topic.head(10)"
   ]
  },
  {
   "cell_type": "code",
   "execution_count": 163,
   "id": "722a926b",
   "metadata": {
    "scrolled": false
   },
   "outputs": [
    {
     "name": "stdout",
     "output_type": "stream",
     "text": [
      "topic0: [('flight, get, hour, thank, call, time, one, please, cancel, want', 3122)] \n",
      "\n",
      "topic1: [('flight, cancel, get, service, customer, call, try, hour, need, flightled', 4139)] \n",
      "\n",
      "topic2: [('get, flight, help, plane, hour, wait, need, time, bag, make', 3369)] \n",
      "\n",
      "topic3: [('flight, get, help, service, call, customer, hour, cancel, take, fly', 4010)] \n",
      "\n"
     ]
    }
   ],
   "source": [
    "from collections import Counter\n",
    "K=range(0,4)\n",
    "for k in K:\n",
    "    df_cluster = df_dominant_topic[df_dominant_topic.Dominant_Topic == k]\n",
    "    cluster = df_cluster.Keywords\n",
    "    count = Counter(cluster)\n",
    "    topic = count.most_common(10)\n",
    "    print(\"topic%d:\"% k , topic, \"\\n\")"
   ]
  },
  {
   "cell_type": "markdown",
   "id": "50e68554",
   "metadata": {},
   "source": [
    "> The four topics seem to be the following ones :\n",
    "- Topic 0 : Flight cancel, need to call (the service customer) OR want to cancel the flight\n",
    "- Topic 1 : Try to call the customer service for hour, need to cancel the flight\n",
    "- Topic 2 : Need help to get (get = récupérer) a bag , wait for hours\n",
    "- Topic 3 : Customer cancel flight (encore??)"
   ]
  },
  {
   "cell_type": "code",
   "execution_count": 164,
   "id": "00b6328a",
   "metadata": {},
   "outputs": [
    {
     "data": {
      "text/html": [
       "<div>\n",
       "<style scoped>\n",
       "    .dataframe tbody tr th:only-of-type {\n",
       "        vertical-align: middle;\n",
       "    }\n",
       "\n",
       "    .dataframe tbody tr th {\n",
       "        vertical-align: top;\n",
       "    }\n",
       "\n",
       "    .dataframe thead th {\n",
       "        text-align: right;\n",
       "    }\n",
       "</style>\n",
       "<table border=\"1\" class=\"dataframe\">\n",
       "  <thead>\n",
       "    <tr style=\"text-align: right;\">\n",
       "      <th>Sentiment</th>\n",
       "      <th>negative</th>\n",
       "      <th>neutral</th>\n",
       "      <th>positive</th>\n",
       "      <th>Total</th>\n",
       "    </tr>\n",
       "    <tr>\n",
       "      <th>Dominant_Topic</th>\n",
       "      <th></th>\n",
       "      <th></th>\n",
       "      <th></th>\n",
       "      <th></th>\n",
       "    </tr>\n",
       "  </thead>\n",
       "  <tbody>\n",
       "    <tr>\n",
       "      <th>0.0</th>\n",
       "      <td>54.45</td>\n",
       "      <td>24.22</td>\n",
       "      <td>21.33</td>\n",
       "      <td>100.00</td>\n",
       "    </tr>\n",
       "    <tr>\n",
       "      <th>1.0</th>\n",
       "      <td>65.76</td>\n",
       "      <td>20.68</td>\n",
       "      <td>13.55</td>\n",
       "      <td>99.99</td>\n",
       "    </tr>\n",
       "    <tr>\n",
       "      <th>2.0</th>\n",
       "      <td>63.16</td>\n",
       "      <td>21.85</td>\n",
       "      <td>14.99</td>\n",
       "      <td>100.00</td>\n",
       "    </tr>\n",
       "    <tr>\n",
       "      <th>3.0</th>\n",
       "      <td>65.54</td>\n",
       "      <td>18.73</td>\n",
       "      <td>15.74</td>\n",
       "      <td>100.01</td>\n",
       "    </tr>\n",
       "  </tbody>\n",
       "</table>\n",
       "</div>"
      ],
      "text/plain": [
       "Sentiment       negative  neutral  positive   Total\n",
       "Dominant_Topic                                     \n",
       "0.0                54.45    24.22     21.33  100.00\n",
       "1.0                65.76    20.68     13.55   99.99\n",
       "2.0                63.16    21.85     14.99  100.00\n",
       "3.0                65.54    18.73     15.74  100.01"
      ]
     },
     "execution_count": 164,
     "metadata": {},
     "output_type": "execute_result"
    }
   ],
   "source": [
    "freq = pd.crosstab(columns=df_dominant_topic['Sentiment'], \n",
    "                    index=df_dominant_topic['Dominant_Topic'])\\\n",
    ".apply(lambda r: r/r.sum(), axis=1)\\\n",
    ".round(4)*100\n",
    "freq ['Total'] = freq ['negative'] + freq ['neutral'] + freq ['positive']\n",
    "freq "
   ]
  },
  {
   "cell_type": "code",
   "execution_count": 165,
   "id": "90587c35",
   "metadata": {},
   "outputs": [
    {
     "data": {
      "text/html": [
       "<div>\n",
       "<style scoped>\n",
       "    .dataframe tbody tr th:only-of-type {\n",
       "        vertical-align: middle;\n",
       "    }\n",
       "\n",
       "    .dataframe tbody tr th {\n",
       "        vertical-align: top;\n",
       "    }\n",
       "\n",
       "    .dataframe thead th {\n",
       "        text-align: right;\n",
       "    }\n",
       "</style>\n",
       "<table border=\"1\" class=\"dataframe\">\n",
       "  <thead>\n",
       "    <tr style=\"text-align: right;\">\n",
       "      <th>Dominant_Topic</th>\n",
       "      <th>0.0</th>\n",
       "      <th>1.0</th>\n",
       "      <th>2.0</th>\n",
       "      <th>3.0</th>\n",
       "    </tr>\n",
       "    <tr>\n",
       "      <th>Airline</th>\n",
       "      <th></th>\n",
       "      <th></th>\n",
       "      <th></th>\n",
       "      <th></th>\n",
       "    </tr>\n",
       "  </thead>\n",
       "  <tbody>\n",
       "    <tr>\n",
       "      <th>American</th>\n",
       "      <td>22.07</td>\n",
       "      <td>29.61</td>\n",
       "      <td>23.67</td>\n",
       "      <td>24.65</td>\n",
       "    </tr>\n",
       "    <tr>\n",
       "      <th>Delta</th>\n",
       "      <td>23.09</td>\n",
       "      <td>26.69</td>\n",
       "      <td>19.17</td>\n",
       "      <td>31.05</td>\n",
       "    </tr>\n",
       "    <tr>\n",
       "      <th>Southwest</th>\n",
       "      <td>21.16</td>\n",
       "      <td>29.34</td>\n",
       "      <td>24.21</td>\n",
       "      <td>25.29</td>\n",
       "    </tr>\n",
       "    <tr>\n",
       "      <th>US Airways</th>\n",
       "      <td>20.01</td>\n",
       "      <td>27.94</td>\n",
       "      <td>22.97</td>\n",
       "      <td>29.08</td>\n",
       "    </tr>\n",
       "    <tr>\n",
       "      <th>United</th>\n",
       "      <td>21.01</td>\n",
       "      <td>27.52</td>\n",
       "      <td>23.97</td>\n",
       "      <td>27.50</td>\n",
       "    </tr>\n",
       "    <tr>\n",
       "      <th>Virgin America</th>\n",
       "      <td>20.24</td>\n",
       "      <td>30.36</td>\n",
       "      <td>23.61</td>\n",
       "      <td>25.79</td>\n",
       "    </tr>\n",
       "  </tbody>\n",
       "</table>\n",
       "</div>"
      ],
      "text/plain": [
       "Dominant_Topic    0.0    1.0    2.0    3.0\n",
       "Airline                                   \n",
       "American        22.07  29.61  23.67  24.65\n",
       "Delta           23.09  26.69  19.17  31.05\n",
       "Southwest       21.16  29.34  24.21  25.29\n",
       "US Airways      20.01  27.94  22.97  29.08\n",
       "United          21.01  27.52  23.97  27.50\n",
       "Virgin America  20.24  30.36  23.61  25.79"
      ]
     },
     "execution_count": 165,
     "metadata": {},
     "output_type": "execute_result"
    }
   ],
   "source": [
    "freq = pd.crosstab(columns=df_dominant_topic['Dominant_Topic'], \n",
    "                    index=df_dominant_topic['Airline'])\\\n",
    ".apply(lambda r: r/r.sum(), axis=1)\\\n",
    ".round(4)*100\n",
    "#freq ['Total'] = freq ['American'] + freq ['Delta'] + freq['Southwest'] + freq ['US Airways'] + freq['United']+freq['Virgin America']\n",
    "freq "
   ]
  },
  {
   "cell_type": "code",
   "execution_count": null,
   "id": "d6d79dc4",
   "metadata": {},
   "outputs": [],
   "source": []
  },
  {
   "cell_type": "code",
   "execution_count": 101,
   "id": "2bea0dad",
   "metadata": {},
   "outputs": [
    {
     "data": {
      "image/png": "[encoded data removed]",
      "text/plain": [
       "<Figure size 432x288 with 1 Axes>"
      ]
     },
     "metadata": {},
     "output_type": "display_data"
    },
    {
     "name": "stdout",
     "output_type": "stream",
     "text": [
      "2.0    5450\n",
      "1.0    3227\n",
      "3.0    3215\n",
      "0.0    2748\n",
      "Name: Dominant_Topic, dtype: int64\n"
     ]
    }
   ],
   "source": [
    "ax = plt.subplot(111)\n",
    "Counts = dict(Counter(df_dominant_topic['Dominant_Topic']))\n",
    "barPolt = plt.bar(range(len(Counts)),Counts.values())\n",
    "plt.xticks([i+0.5 for i in range(len(Counts.keys()))],Counts.keys(),ha='right',fontsize=18)\n",
    "ax.set_title('Number of tweets per topic \\n',fontsize=24,fontweight='bold')\n",
    "yTix = plt.yticks()[0]\n",
    "plt.yticks(yTix,fontsize=16)\n",
    "plt.show()\n",
    "print(df_dominant_topic['Dominant_Topic'].value_counts())"
   ]
  },
  {
   "cell_type": "markdown",
   "id": "c70bb8c2",
   "metadata": {},
   "source": [
    "## Wordcloud"
   ]
  },
  {
   "cell_type": "code",
   "execution_count": 102,
   "id": "2c37adfa",
   "metadata": {},
   "outputs": [],
   "source": [
    "# Import the wordcloud library\n",
    "#!pip install wordcloud\n",
    "from wordcloud import WordCloud"
   ]
  },
  {
   "cell_type": "code",
   "execution_count": 190,
   "id": "3b3a1f88",
   "metadata": {},
   "outputs": [
    {
     "data": {
      "image/png": "[encoded data removed]",
      "text/plain": [
       "<PIL.Image.Image image mode=RGB size=400x200 at 0x26F4668D1C0>"
      ]
     },
     "execution_count": 190,
     "metadata": {},
     "output_type": "execute_result"
    }
   ],
   "source": [
    "# Join the different processed titles together.\n",
    "long_string = ','.join(list(df['text_cleaned_lemmatized'].values))\n",
    "# Create a WordCloud object\n",
    "wordcloud = WordCloud(background_color=\"white\", max_words=5000, contour_width=3, contour_color='steelblue')\n",
    "# Generate a word cloud\n",
    "wordcloud.generate(long_string)\n",
    "# Visualize the word cloud\n",
    "wordcloud.to_image()"
   ]
  },
  {
   "cell_type": "markdown",
   "id": "aaf611ee",
   "metadata": {},
   "source": [
    "### Wordcloud per topic"
   ]
  },
  {
   "cell_type": "code",
   "execution_count": 191,
   "id": "d84631ee",
   "metadata": {
    "scrolled": false
   },
   "outputs": [
    {
     "data": {
      "image/png": "[encoded data removed]",
      "text/plain": [
       "<Figure size 720x720 with 4 Axes>"
      ]
     },
     "metadata": {},
     "output_type": "display_data"
    }
   ],
   "source": [
    "# 1. Wordcloud of Top N words in each topic\n",
    "from matplotlib import pyplot as plt\n",
    "from wordcloud import WordCloud, STOPWORDS\n",
    "from nltk.corpus import stopwords\n",
    "import matplotlib.colors as mcolors\n",
    "stop_words = stopwords.words('english')\n",
    "\n",
    "cols = [color for name, color in mcolors.TABLEAU_COLORS.items()]  # more colors: 'mcolors.XKCD_COLORS'\n",
    "\n",
    "cloud = WordCloud(stopwords=stop_words,\n",
    "                  background_color='white',\n",
    "                  width=2500,\n",
    "                  height=1800,\n",
    "                  max_words=10,\n",
    "                  colormap='tab10',\n",
    "                  color_func=lambda *args, **kwargs: cols[i],\n",
    "                  prefer_horizontal=1.0)\n",
    "\n",
    "topics = lda_model.show_topics(formatted=False)\n",
    "\n",
    "fig, axes = plt.subplots(2,2 , figsize=(10,10), sharex=True, sharey=True)\n",
    "\n",
    "for i, ax in enumerate(axes.flatten()):\n",
    "    fig.add_subplot(ax)\n",
    "    topic_words = dict(topics[i][1])\n",
    "    cloud.generate_from_frequencies(topic_words, max_font_size=300)\n",
    "    plt.gca().imshow(cloud)\n",
    "    plt.gca().set_title('Topic ' + str(i), fontdict=dict(size=16))\n",
    "    plt.gca().axis('off')\n",
    "\n",
    "\n",
    "plt.subplots_adjust(wspace=0, hspace=0)\n",
    "plt.axis('off')\n",
    "plt.margins(x=0, y=0)\n",
    "plt.tight_layout()\n",
    "plt.show()"
   ]
  },
  {
   "cell_type": "markdown",
   "id": "44fcfc11",
   "metadata": {},
   "source": [
    "# Use clustering to toping modeling "
   ]
  },
  {
   "cell_type": "code",
   "execution_count": 106,
   "id": "7776c9c0",
   "metadata": {},
   "outputs": [],
   "source": [
    "#!pip install tensorflow\n",
    "#!pip install tensorflow_hub\n",
    "#!pip install tensorflow_text\n",
    "import pickle #to save serialized data\n",
    "import tensorflow as tf \n",
    "import tensorflow_hub as hub\n",
    "import tensorflow_text\n",
    "import numpy as np"
   ]
  },
  {
   "cell_type": "code",
   "execution_count": 124,
   "id": "013abaf0",
   "metadata": {},
   "outputs": [],
   "source": [
    "#embed = hub.load(\"https://tfhub.dev/google/nnlm-en-dim50/2\")\n",
    "embed = hub.load(\"https://tfhub.dev/google/universal-sentence-encoder-multilingual-large/3\")"
   ]
  },
  {
   "cell_type": "code",
   "execution_count": 125,
   "id": "b0feca34",
   "metadata": {},
   "outputs": [],
   "source": [
    "def use_vectorize(texts, chunk_size=1000) -> np.ndarray:\n",
    "        embedder = embed\n",
    "        if len(texts) <= chunk_size:\n",
    "            return embedder(texts).numpy().astype(np.float16)\n",
    "            #return embedder(texts).numpy()\n",
    "        res = []\n",
    "        for i in tqdm(range(0, len(texts), chunk_size), total=round(len(texts)/chunk_size), desc=\"Vectorization\"):\n",
    "            cu_texts = texts[i:i+chunk_size]\n",
    "            res.append(embedder(cu_texts).numpy().astype(np.float16))\n",
    "            #res.append(embedder(cu_texts).numpy())\n",
    "        return np.concatenate(res)"
   ]
  },
  {
   "cell_type": "code",
   "execution_count": 167,
   "id": "c10ec20d",
   "metadata": {},
   "outputs": [
    {
     "data": {
      "application/vnd.jupyter.widget-view+json": {
       "model_id": "92b4e898d43a4e6ea1d77fab4b244f4c",
       "version_major": 2,
       "version_minor": 0
      },
      "text/plain": [
       "Vectorization:   0%|          | 0/15 [00:00<?, ?it/s]"
      ]
     },
     "metadata": {},
     "output_type": "display_data"
    }
   ],
   "source": [
    "embeddings = use_vectorize(df['text_cleaned_lemmatized'].astype(str).tolist())\n",
    "pickle_out = open(\"embeddings.p\",\"wb\")\n",
    "pickle.dump(embeddings, pickle_out)\n",
    "pickle_out.close()"
   ]
  },
  {
   "cell_type": "code",
   "execution_count": 168,
   "id": "fcc6bb9c",
   "metadata": {},
   "outputs": [
    {
     "data": {
      "text/plain": [
       "(14640, 512)"
      ]
     },
     "execution_count": 168,
     "metadata": {},
     "output_type": "execute_result"
    }
   ],
   "source": [
    "embeddings.shape"
   ]
  },
  {
   "cell_type": "markdown",
   "id": "be716ffc",
   "metadata": {},
   "source": [
    "## Use PCA to reduce the dimension"
   ]
  },
  {
   "cell_type": "code",
   "execution_count": 111,
   "id": "70972806",
   "metadata": {},
   "outputs": [],
   "source": [
    "from sklearn.decomposition import PCA #PCA\n",
    "from sklearn.cluster import KMeans, DBSCAN #clustering methods"
   ]
  },
  {
   "cell_type": "code",
   "execution_count": 112,
   "id": "fc0d5831",
   "metadata": {},
   "outputs": [],
   "source": [
    "def pca(message_embeddings):\n",
    "    pca = PCA(0.6)\n",
    "    newX = pca.fit_transform(message_embeddings)\n",
    "    newdf = pd.DataFrame(newX)\n",
    "    newdf.to_pickle('pca.p')\n",
    "    return (newdf)"
   ]
  },
  {
   "cell_type": "code",
   "execution_count": 169,
   "id": "01d3ba8c",
   "metadata": {},
   "outputs": [
    {
     "data": {
      "text/html": [
       "<div>\n",
       "<style scoped>\n",
       "    .dataframe tbody tr th:only-of-type {\n",
       "        vertical-align: middle;\n",
       "    }\n",
       "\n",
       "    .dataframe tbody tr th {\n",
       "        vertical-align: top;\n",
       "    }\n",
       "\n",
       "    .dataframe thead th {\n",
       "        text-align: right;\n",
       "    }\n",
       "</style>\n",
       "<table border=\"1\" class=\"dataframe\">\n",
       "  <thead>\n",
       "    <tr style=\"text-align: right;\">\n",
       "      <th></th>\n",
       "      <th>0</th>\n",
       "      <th>1</th>\n",
       "      <th>2</th>\n",
       "      <th>3</th>\n",
       "      <th>4</th>\n",
       "      <th>5</th>\n",
       "      <th>6</th>\n",
       "      <th>7</th>\n",
       "      <th>8</th>\n",
       "      <th>9</th>\n",
       "      <th>...</th>\n",
       "      <th>60</th>\n",
       "      <th>61</th>\n",
       "      <th>62</th>\n",
       "      <th>63</th>\n",
       "      <th>64</th>\n",
       "      <th>65</th>\n",
       "      <th>66</th>\n",
       "      <th>67</th>\n",
       "      <th>68</th>\n",
       "      <th>69</th>\n",
       "    </tr>\n",
       "  </thead>\n",
       "  <tbody>\n",
       "    <tr>\n",
       "      <th>0</th>\n",
       "      <td>0.517921</td>\n",
       "      <td>0.178403</td>\n",
       "      <td>0.074392</td>\n",
       "      <td>0.267920</td>\n",
       "      <td>0.018855</td>\n",
       "      <td>0.118117</td>\n",
       "      <td>0.002728</td>\n",
       "      <td>-0.103517</td>\n",
       "      <td>0.007130</td>\n",
       "      <td>0.016053</td>\n",
       "      <td>...</td>\n",
       "      <td>0.091650</td>\n",
       "      <td>0.032058</td>\n",
       "      <td>0.076866</td>\n",
       "      <td>-0.095746</td>\n",
       "      <td>0.052829</td>\n",
       "      <td>0.009760</td>\n",
       "      <td>0.006120</td>\n",
       "      <td>-0.034259</td>\n",
       "      <td>0.034761</td>\n",
       "      <td>-0.045773</td>\n",
       "    </tr>\n",
       "    <tr>\n",
       "      <th>1</th>\n",
       "      <td>0.156770</td>\n",
       "      <td>-0.093112</td>\n",
       "      <td>-0.210951</td>\n",
       "      <td>-0.058237</td>\n",
       "      <td>0.077877</td>\n",
       "      <td>-0.095368</td>\n",
       "      <td>0.036225</td>\n",
       "      <td>0.118419</td>\n",
       "      <td>-0.007127</td>\n",
       "      <td>-0.079539</td>\n",
       "      <td>...</td>\n",
       "      <td>0.025711</td>\n",
       "      <td>0.073258</td>\n",
       "      <td>-0.067523</td>\n",
       "      <td>0.033589</td>\n",
       "      <td>0.060509</td>\n",
       "      <td>0.024865</td>\n",
       "      <td>0.053936</td>\n",
       "      <td>-0.033532</td>\n",
       "      <td>0.051948</td>\n",
       "      <td>0.040219</td>\n",
       "    </tr>\n",
       "    <tr>\n",
       "      <th>2</th>\n",
       "      <td>0.062293</td>\n",
       "      <td>-0.024937</td>\n",
       "      <td>0.045873</td>\n",
       "      <td>-0.009522</td>\n",
       "      <td>-0.166364</td>\n",
       "      <td>-0.307054</td>\n",
       "      <td>0.104844</td>\n",
       "      <td>-0.115082</td>\n",
       "      <td>0.081741</td>\n",
       "      <td>-0.061270</td>\n",
       "      <td>...</td>\n",
       "      <td>0.038686</td>\n",
       "      <td>-0.105212</td>\n",
       "      <td>0.025829</td>\n",
       "      <td>0.079418</td>\n",
       "      <td>0.092867</td>\n",
       "      <td>0.078333</td>\n",
       "      <td>-0.149635</td>\n",
       "      <td>-0.050875</td>\n",
       "      <td>-0.036483</td>\n",
       "      <td>0.053891</td>\n",
       "    </tr>\n",
       "    <tr>\n",
       "      <th>3</th>\n",
       "      <td>0.005750</td>\n",
       "      <td>-0.214535</td>\n",
       "      <td>-0.200948</td>\n",
       "      <td>-0.058312</td>\n",
       "      <td>0.193500</td>\n",
       "      <td>0.009968</td>\n",
       "      <td>0.044612</td>\n",
       "      <td>-0.075095</td>\n",
       "      <td>-0.021485</td>\n",
       "      <td>-0.071600</td>\n",
       "      <td>...</td>\n",
       "      <td>-0.001862</td>\n",
       "      <td>0.032575</td>\n",
       "      <td>-0.007597</td>\n",
       "      <td>-0.004689</td>\n",
       "      <td>0.034590</td>\n",
       "      <td>0.000053</td>\n",
       "      <td>0.056813</td>\n",
       "      <td>-0.017911</td>\n",
       "      <td>-0.033630</td>\n",
       "      <td>0.050192</td>\n",
       "    </tr>\n",
       "    <tr>\n",
       "      <th>4</th>\n",
       "      <td>0.313043</td>\n",
       "      <td>0.029060</td>\n",
       "      <td>-0.149722</td>\n",
       "      <td>-0.040980</td>\n",
       "      <td>0.278769</td>\n",
       "      <td>-0.013789</td>\n",
       "      <td>0.140248</td>\n",
       "      <td>-0.229981</td>\n",
       "      <td>-0.042799</td>\n",
       "      <td>-0.032048</td>\n",
       "      <td>...</td>\n",
       "      <td>0.012342</td>\n",
       "      <td>-0.007472</td>\n",
       "      <td>-0.074942</td>\n",
       "      <td>0.009441</td>\n",
       "      <td>-0.009356</td>\n",
       "      <td>0.020910</td>\n",
       "      <td>-0.083969</td>\n",
       "      <td>0.022499</td>\n",
       "      <td>-0.056731</td>\n",
       "      <td>-0.027773</td>\n",
       "    </tr>\n",
       "  </tbody>\n",
       "</table>\n",
       "<p>5 rows × 70 columns</p>\n",
       "</div>"
      ],
      "text/plain": [
       "         0         1         2         3         4         5         6   \\\n",
       "0  0.517921  0.178403  0.074392  0.267920  0.018855  0.118117  0.002728   \n",
       "1  0.156770 -0.093112 -0.210951 -0.058237  0.077877 -0.095368  0.036225   \n",
       "2  0.062293 -0.024937  0.045873 -0.009522 -0.166364 -0.307054  0.104844   \n",
       "3  0.005750 -0.214535 -0.200948 -0.058312  0.193500  0.009968  0.044612   \n",
       "4  0.313043  0.029060 -0.149722 -0.040980  0.278769 -0.013789  0.140248   \n",
       "\n",
       "         7         8         9   ...        60        61        62        63  \\\n",
       "0 -0.103517  0.007130  0.016053  ...  0.091650  0.032058  0.076866 -0.095746   \n",
       "1  0.118419 -0.007127 -0.079539  ...  0.025711  0.073258 -0.067523  0.033589   \n",
       "2 -0.115082  0.081741 -0.061270  ...  0.038686 -0.105212  0.025829  0.079418   \n",
       "3 -0.075095 -0.021485 -0.071600  ... -0.001862  0.032575 -0.007597 -0.004689   \n",
       "4 -0.229981 -0.042799 -0.032048  ...  0.012342 -0.007472 -0.074942  0.009441   \n",
       "\n",
       "         64        65        66        67        68        69  \n",
       "0  0.052829  0.009760  0.006120 -0.034259  0.034761 -0.045773  \n",
       "1  0.060509  0.024865  0.053936 -0.033532  0.051948  0.040219  \n",
       "2  0.092867  0.078333 -0.149635 -0.050875 -0.036483  0.053891  \n",
       "3  0.034590  0.000053  0.056813 -0.017911 -0.033630  0.050192  \n",
       "4 -0.009356  0.020910 -0.083969  0.022499 -0.056731 -0.027773  \n",
       "\n",
       "[5 rows x 70 columns]"
      ]
     },
     "execution_count": 169,
     "metadata": {},
     "output_type": "execute_result"
    }
   ],
   "source": [
    "df_embed = pca(embeddings)\n",
    "df_embed.head()"
   ]
  },
  {
   "cell_type": "code",
   "execution_count": 170,
   "id": "eff3f261",
   "metadata": {},
   "outputs": [
    {
     "data": {
      "text/plain": [
       "(14640, 70)"
      ]
     },
     "execution_count": 170,
     "metadata": {},
     "output_type": "execute_result"
    }
   ],
   "source": [
    "df_embed.shape"
   ]
  },
  {
   "cell_type": "markdown",
   "id": "c19facb0",
   "metadata": {},
   "source": [
    "## Use K-Means to cluster topics"
   ]
  },
  {
   "cell_type": "markdown",
   "id": "9b41d881",
   "metadata": {},
   "source": [
    "### Use the elbow method to define the k clusters\n",
    "> the elbow method is a heuristic used in determining the number of clusters in a data set. The method consists of plotting the explained variation as a function of the number of clusters, and picking the elbow of the curve as the number of clusters to use. "
   ]
  },
  {
   "cell_type": "code",
   "execution_count": 185,
   "id": "7f597f6b",
   "metadata": {},
   "outputs": [
    {
     "data": {
      "application/vnd.jupyter.widget-view+json": {
       "model_id": "b04cdf3e63d247008cb600298626d65c",
       "version_major": 2,
       "version_minor": 0
      },
      "text/plain": [
       "  0%|          | 0/19 [00:00<?, ?it/s]"
      ]
     },
     "metadata": {},
     "output_type": "display_data"
    }
   ],
   "source": [
    "K = range(1,20)\n",
    "SSE = []\n",
    "for k in tqdm(K, total = len(K)):\n",
    "    clustering = KMeans(n_clusters = k)\n",
    "    clustering.fit(df_embed.values.astype(float))\n",
    "    SSE.append(clustering.inertia_)"
   ]
  },
  {
   "cell_type": "code",
   "execution_count": 189,
   "id": "8bb3d7ca",
   "metadata": {},
   "outputs": [
    {
     "data": {
      "image/png": "[encoded data removed]",
      "text/plain": [
       "<Figure size 432x288 with 1 Axes>"
      ]
     },
     "metadata": {},
     "output_type": "display_data"
    }
   ],
   "source": [
    "import matplotlib.pyplot as plt\n",
    "plt.plot(K,SSE,'bx-')\n",
    "plt.title('Elbow Method')\n",
    "plt.xlabel('cluster numbers')\n",
    "plt.ylabel('variance explain')\n",
    "plt.axvline(x = 4, c='r')\n",
    "plt.show()"
   ]
  },
  {
   "cell_type": "markdown",
   "id": "91a1e864",
   "metadata": {},
   "source": [
    "### Use kmeans"
   ]
  },
  {
   "cell_type": "code",
   "execution_count": 176,
   "id": "fc976886",
   "metadata": {},
   "outputs": [],
   "source": [
    "clustering = KMeans(n_clusters=4).fit(df_embed.values.astype(float))"
   ]
  },
  {
   "cell_type": "code",
   "execution_count": 177,
   "id": "f49b8e4c",
   "metadata": {},
   "outputs": [],
   "source": [
    "df['Cluster'] = clustering.labels_"
   ]
  },
  {
   "cell_type": "code",
   "execution_count": 178,
   "id": "451e1c0e",
   "metadata": {},
   "outputs": [
    {
     "data": {
      "image/png": "[encoded data removed]",
      "text/plain": [
       "<Figure size 432x288 with 1 Axes>"
      ]
     },
     "metadata": {},
     "output_type": "display_data"
    },
    {
     "name": "stdout",
     "output_type": "stream",
     "text": [
      "1    6141\n",
      "3    4372\n",
      "0    2450\n",
      "2    1677\n",
      "Name: Cluster, dtype: int64\n"
     ]
    }
   ],
   "source": [
    "ax = plt.subplot(111)\n",
    "Counts = dict(Counter(df['Cluster']))\n",
    "barPolt = plt.bar(range(len(Counts)),Counts.values())\n",
    "plt.xticks([i+0.5 for i in range(len(Counts.keys()))],Counts.keys(),ha='right',fontsize=18)\n",
    "ax.set_title('Number of tweets per topic (cluster)\\n',fontsize=24,fontweight='bold')\n",
    "yTix = plt.yticks()[0]\n",
    "plt.yticks(yTix,fontsize=16)\n",
    "plt.show()\n",
    "print(df['Cluster'].value_counts())"
   ]
  },
  {
   "cell_type": "markdown",
   "id": "b89c7226",
   "metadata": {},
   "source": [
    "### Understanding of the topics"
   ]
  },
  {
   "cell_type": "code",
   "execution_count": 179,
   "id": "7fc464a9",
   "metadata": {
    "scrolled": true
   },
   "outputs": [
    {
     "name": "stdout",
     "output_type": "stream",
     "text": [
      "cluster0: [('customer', 681), ('service', 640), ('call', 468), ('get', 450), ('hour', 337), ('hold', 300), ('phone', 277), ('wait', 273), ('help', 248), ('time', 224)] \n",
      "\n",
      "cluster1: [('flight', 4739), ('cancel', 1047), ('get', 1011), ('plane', 705), ('hour', 646), ('fly', 583), ('airline', 542), ('time', 530), ('flightled', 501), ('delayed', 419)] \n",
      "\n",
      "cluster2: [('thank', 220), ('dm', 93), ('', 88), ('fleek', 82), ('fleet', 81), ('follow', 72), ('get', 65), ('sent', 55), ('please', 47), ('help', 40)] \n",
      "\n",
      "cluster3: [('get', 567), ('bag', 297), ('help', 231), ('make', 222), ('need', 197), ('seat', 194), ('please', 189), ('one', 189), ('thank', 182), ('like', 179)] \n",
      "\n"
     ]
    }
   ],
   "source": [
    "K=range(0,4)\n",
    "for k in K:\n",
    "    df_cluster = df[df.Cluster == k]\n",
    "    cluster = df_cluster.tokenize.explode().tolist()\n",
    "    count = Counter(cluster)\n",
    "    topic = count.most_common(10)\n",
    "    print(\"cluster%d:\"% k , topic, \"\\n\")\n",
    "#AJOUTER CHAQUE TOPIC COMME COLUM DANS UN DF POUR MEILLEUR LISIBILITE"
   ]
  },
  {
   "cell_type": "markdown",
   "id": "a233f1b9",
   "metadata": {},
   "source": [
    "> The four topics seem to be the following ones :\n",
    "- Cluster 0 :  Hold for a long time when calling the customer service\n",
    "- Cluster 1 : Flighted from the airline about cancelation, delayed and hours\n",
    "- Cluster 2 : Need help to follow the fleek leading to the right fleet\n",
    "- Cluster 3 : Need help for a bag or a seat, more polite topics (like as in would like , please, thank)"
   ]
  },
  {
   "cell_type": "code",
   "execution_count": 194,
   "id": "81e139c9",
   "metadata": {},
   "outputs": [
    {
     "data": {
      "text/html": [
       "<div>\n",
       "<style scoped>\n",
       "    .dataframe tbody tr th:only-of-type {\n",
       "        vertical-align: middle;\n",
       "    }\n",
       "\n",
       "    .dataframe tbody tr th {\n",
       "        vertical-align: top;\n",
       "    }\n",
       "\n",
       "    .dataframe thead th {\n",
       "        text-align: right;\n",
       "    }\n",
       "</style>\n",
       "<table border=\"1\" class=\"dataframe\">\n",
       "  <thead>\n",
       "    <tr style=\"text-align: right;\">\n",
       "      <th>airline_sentiment</th>\n",
       "      <th>negative</th>\n",
       "      <th>neutral</th>\n",
       "      <th>positive</th>\n",
       "      <th>Total</th>\n",
       "    </tr>\n",
       "    <tr>\n",
       "      <th>Cluster</th>\n",
       "      <th></th>\n",
       "      <th></th>\n",
       "      <th></th>\n",
       "      <th></th>\n",
       "    </tr>\n",
       "  </thead>\n",
       "  <tbody>\n",
       "    <tr>\n",
       "      <th>0</th>\n",
       "      <td>85.88</td>\n",
       "      <td>6.08</td>\n",
       "      <td>8.04</td>\n",
       "      <td>100.0</td>\n",
       "    </tr>\n",
       "    <tr>\n",
       "      <th>1</th>\n",
       "      <td>71.73</td>\n",
       "      <td>17.08</td>\n",
       "      <td>11.19</td>\n",
       "      <td>100.0</td>\n",
       "    </tr>\n",
       "    <tr>\n",
       "      <th>2</th>\n",
       "      <td>24.15</td>\n",
       "      <td>39.36</td>\n",
       "      <td>36.49</td>\n",
       "      <td>100.0</td>\n",
       "    </tr>\n",
       "    <tr>\n",
       "      <th>3</th>\n",
       "      <td>51.78</td>\n",
       "      <td>28.39</td>\n",
       "      <td>19.83</td>\n",
       "      <td>100.0</td>\n",
       "    </tr>\n",
       "  </tbody>\n",
       "</table>\n",
       "</div>"
      ],
      "text/plain": [
       "airline_sentiment  negative  neutral  positive  Total\n",
       "Cluster                                              \n",
       "0                     85.88     6.08      8.04  100.0\n",
       "1                     71.73    17.08     11.19  100.0\n",
       "2                     24.15    39.36     36.49  100.0\n",
       "3                     51.78    28.39     19.83  100.0"
      ]
     },
     "execution_count": 194,
     "metadata": {},
     "output_type": "execute_result"
    }
   ],
   "source": [
    "freq = pd.crosstab(columns=df['airline_sentiment'], \n",
    "                    index=df['Cluster'])\\\n",
    ".apply(lambda r: r/r.sum(), axis=1)\\\n",
    ".round(4)*100\n",
    "freq ['Total'] = freq ['negative'] + freq ['neutral'] + freq ['positive']\n",
    "freq "
   ]
  },
  {
   "cell_type": "code",
   "execution_count": 195,
   "id": "d2c340d8",
   "metadata": {},
   "outputs": [
    {
     "data": {
      "text/html": [
       "<div>\n",
       "<style scoped>\n",
       "    .dataframe tbody tr th:only-of-type {\n",
       "        vertical-align: middle;\n",
       "    }\n",
       "\n",
       "    .dataframe tbody tr th {\n",
       "        vertical-align: top;\n",
       "    }\n",
       "\n",
       "    .dataframe thead th {\n",
       "        text-align: right;\n",
       "    }\n",
       "</style>\n",
       "<table border=\"1\" class=\"dataframe\">\n",
       "  <thead>\n",
       "    <tr style=\"text-align: right;\">\n",
       "      <th>Cluster</th>\n",
       "      <th>0</th>\n",
       "      <th>1</th>\n",
       "      <th>2</th>\n",
       "      <th>3</th>\n",
       "    </tr>\n",
       "    <tr>\n",
       "      <th>airline</th>\n",
       "      <th></th>\n",
       "      <th></th>\n",
       "      <th></th>\n",
       "      <th></th>\n",
       "    </tr>\n",
       "  </thead>\n",
       "  <tbody>\n",
       "    <tr>\n",
       "      <th>American</th>\n",
       "      <td>22.18</td>\n",
       "      <td>42.52</td>\n",
       "      <td>9.42</td>\n",
       "      <td>25.88</td>\n",
       "    </tr>\n",
       "    <tr>\n",
       "      <th>Delta</th>\n",
       "      <td>8.46</td>\n",
       "      <td>36.50</td>\n",
       "      <td>18.59</td>\n",
       "      <td>36.45</td>\n",
       "    </tr>\n",
       "    <tr>\n",
       "      <th>Southwest</th>\n",
       "      <td>12.60</td>\n",
       "      <td>40.45</td>\n",
       "      <td>13.10</td>\n",
       "      <td>33.84</td>\n",
       "    </tr>\n",
       "    <tr>\n",
       "      <th>US Airways</th>\n",
       "      <td>21.73</td>\n",
       "      <td>45.35</td>\n",
       "      <td>7.59</td>\n",
       "      <td>25.33</td>\n",
       "    </tr>\n",
       "    <tr>\n",
       "      <th>United</th>\n",
       "      <td>17.32</td>\n",
       "      <td>43.62</td>\n",
       "      <td>10.49</td>\n",
       "      <td>28.57</td>\n",
       "    </tr>\n",
       "    <tr>\n",
       "      <th>Virgin America</th>\n",
       "      <td>9.92</td>\n",
       "      <td>37.70</td>\n",
       "      <td>12.90</td>\n",
       "      <td>39.48</td>\n",
       "    </tr>\n",
       "  </tbody>\n",
       "</table>\n",
       "</div>"
      ],
      "text/plain": [
       "Cluster             0      1      2      3\n",
       "airline                                   \n",
       "American        22.18  42.52   9.42  25.88\n",
       "Delta            8.46  36.50  18.59  36.45\n",
       "Southwest       12.60  40.45  13.10  33.84\n",
       "US Airways      21.73  45.35   7.59  25.33\n",
       "United          17.32  43.62  10.49  28.57\n",
       "Virgin America   9.92  37.70  12.90  39.48"
      ]
     },
     "execution_count": 195,
     "metadata": {},
     "output_type": "execute_result"
    }
   ],
   "source": [
    "freq = pd.crosstab(columns=df['Cluster'], \n",
    "                    index=df['airline'])\\\n",
    ".apply(lambda r: r/r.sum(), axis=1)\\\n",
    ".round(4)*100\n",
    "#freq ['Total'] = freq ['American'] + freq ['Delta'] + freq['Southwest'] + freq ['US Airways'] + freq['United']+freq['Virgin America']\n",
    "freq "
   ]
  },
  {
   "cell_type": "markdown",
   "id": "826e2812",
   "metadata": {},
   "source": [
    "# Marketing insight\n",
    "\n",
    "Need to have a better relation with customer, all topics are negative.\n",
    "Use the topics to focus on particular fiel to update such as lost of luggage, hotline respons, cancellation and delay."
   ]
  },
  {
   "cell_type": "markdown",
   "id": "fa3bdb21",
   "metadata": {},
   "source": [
    "# To improve\n",
    "\n",
    "- Still some words that do not have much sens in the topic, such as get. Maybe use a better librairie or a pre trained neural network\n",
    "- The choice of the number of topics, use of GridSearc with LDA from the SKLEARN librairie\n",
    "- Use Trigram and Bigram\n",
    "> N - grams are N words frequently occurring together in the document. It allows to have a better quality of topics, clearer , segregated and meaningful"
   ]
  }
 ],
 "metadata": {
  "kernelspec": {
   "display_name": "Python 3",
   "language": "python",
   "name": "python3"
  },
  "language_info": {
   "codemirror_mode": {
    "name": "ipython",
    "version": 3
   },
   "file_extension": ".py",
   "mimetype": "text/x-python",
   "name": "python",
   "nbconvert_exporter": "python",
   "pygments_lexer": "ipython3",
   "version": "3.8.8"
  }
 },
 "nbformat": 4,
 "nbformat_minor": 5
}
